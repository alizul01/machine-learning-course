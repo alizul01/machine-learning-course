{
 "cells": [
  {
   "cell_type": "markdown",
   "source": [
    "## Muhammad Ali Zulfikar\n",
    "### TI-3H\n",
    "### 24"
   ],
   "metadata": {
    "collapsed": false
   },
   "id": "a29faef523f81ae0"
  },
  {
   "cell_type": "code",
   "execution_count": 80,
   "id": "initial_id",
   "metadata": {
    "collapsed": true,
    "ExecuteTime": {
     "end_time": "2023-09-20T04:51:05.467002700Z",
     "start_time": "2023-09-20T04:51:05.317773200Z"
    }
   },
   "outputs": [],
   "source": [
    "import pandas as pd\n",
    "import matplotlib.pyplot as plt\n",
    "import numpy as np\n",
    "from sklearn.svm import SVC\n",
    "from sklearn.decomposition import PCA as RandomizedPCA\n",
    "from sklearn.pipeline import make_pipeline\n",
    "import seaborn as sns\n",
    "from sklearn.preprocessing import LabelEncoder, StandardScaler\n",
    "from sklearn.model_selection import train_test_split"
   ]
  },
  {
   "cell_type": "markdown",
   "source": [
    "Import semua data dari dataset voice"
   ],
   "metadata": {
    "collapsed": false
   },
   "id": "538b0eb6378841e9"
  },
  {
   "cell_type": "code",
   "execution_count": 81,
   "outputs": [
    {
     "data": {
      "text/plain": "   meanfreq        sd    median       Q25       Q75       IQR       skew  \\\n0  0.059781  0.064241  0.032027  0.015071  0.090193  0.075122  12.863462   \n1  0.066009  0.067310  0.040229  0.019414  0.092666  0.073252  22.423285   \n2  0.077316  0.083829  0.036718  0.008701  0.131908  0.123207  30.757155   \n3  0.151228  0.072111  0.158011  0.096582  0.207955  0.111374   1.232831   \n4  0.135120  0.079146  0.124656  0.078720  0.206045  0.127325   1.101174   \n\n          kurt    sp.ent       sfm  ...  centroid   meanfun    minfun  \\\n0   274.402906  0.893369  0.491918  ...  0.059781  0.084279  0.015702   \n1   634.613855  0.892193  0.513724  ...  0.066009  0.107937  0.015826   \n2  1024.927705  0.846389  0.478905  ...  0.077316  0.098706  0.015656   \n3     4.177296  0.963322  0.727232  ...  0.151228  0.088965  0.017798   \n4     4.333713  0.971955  0.783568  ...  0.135120  0.106398  0.016931   \n\n     maxfun   meandom    mindom    maxdom   dfrange   modindx  label  \n0  0.275862  0.007812  0.007812  0.007812  0.000000  0.000000   male  \n1  0.250000  0.009014  0.007812  0.054688  0.046875  0.052632   male  \n2  0.271186  0.007990  0.007812  0.015625  0.007812  0.046512   male  \n3  0.250000  0.201497  0.007812  0.562500  0.554688  0.247119   male  \n4  0.266667  0.712812  0.007812  5.484375  5.476562  0.208274   male  \n\n[5 rows x 21 columns]",
      "text/html": "<div>\n<style scoped>\n    .dataframe tbody tr th:only-of-type {\n        vertical-align: middle;\n    }\n\n    .dataframe tbody tr th {\n        vertical-align: top;\n    }\n\n    .dataframe thead th {\n        text-align: right;\n    }\n</style>\n<table border=\"1\" class=\"dataframe\">\n  <thead>\n    <tr style=\"text-align: right;\">\n      <th></th>\n      <th>meanfreq</th>\n      <th>sd</th>\n      <th>median</th>\n      <th>Q25</th>\n      <th>Q75</th>\n      <th>IQR</th>\n      <th>skew</th>\n      <th>kurt</th>\n      <th>sp.ent</th>\n      <th>sfm</th>\n      <th>...</th>\n      <th>centroid</th>\n      <th>meanfun</th>\n      <th>minfun</th>\n      <th>maxfun</th>\n      <th>meandom</th>\n      <th>mindom</th>\n      <th>maxdom</th>\n      <th>dfrange</th>\n      <th>modindx</th>\n      <th>label</th>\n    </tr>\n  </thead>\n  <tbody>\n    <tr>\n      <th>0</th>\n      <td>0.059781</td>\n      <td>0.064241</td>\n      <td>0.032027</td>\n      <td>0.015071</td>\n      <td>0.090193</td>\n      <td>0.075122</td>\n      <td>12.863462</td>\n      <td>274.402906</td>\n      <td>0.893369</td>\n      <td>0.491918</td>\n      <td>...</td>\n      <td>0.059781</td>\n      <td>0.084279</td>\n      <td>0.015702</td>\n      <td>0.275862</td>\n      <td>0.007812</td>\n      <td>0.007812</td>\n      <td>0.007812</td>\n      <td>0.000000</td>\n      <td>0.000000</td>\n      <td>male</td>\n    </tr>\n    <tr>\n      <th>1</th>\n      <td>0.066009</td>\n      <td>0.067310</td>\n      <td>0.040229</td>\n      <td>0.019414</td>\n      <td>0.092666</td>\n      <td>0.073252</td>\n      <td>22.423285</td>\n      <td>634.613855</td>\n      <td>0.892193</td>\n      <td>0.513724</td>\n      <td>...</td>\n      <td>0.066009</td>\n      <td>0.107937</td>\n      <td>0.015826</td>\n      <td>0.250000</td>\n      <td>0.009014</td>\n      <td>0.007812</td>\n      <td>0.054688</td>\n      <td>0.046875</td>\n      <td>0.052632</td>\n      <td>male</td>\n    </tr>\n    <tr>\n      <th>2</th>\n      <td>0.077316</td>\n      <td>0.083829</td>\n      <td>0.036718</td>\n      <td>0.008701</td>\n      <td>0.131908</td>\n      <td>0.123207</td>\n      <td>30.757155</td>\n      <td>1024.927705</td>\n      <td>0.846389</td>\n      <td>0.478905</td>\n      <td>...</td>\n      <td>0.077316</td>\n      <td>0.098706</td>\n      <td>0.015656</td>\n      <td>0.271186</td>\n      <td>0.007990</td>\n      <td>0.007812</td>\n      <td>0.015625</td>\n      <td>0.007812</td>\n      <td>0.046512</td>\n      <td>male</td>\n    </tr>\n    <tr>\n      <th>3</th>\n      <td>0.151228</td>\n      <td>0.072111</td>\n      <td>0.158011</td>\n      <td>0.096582</td>\n      <td>0.207955</td>\n      <td>0.111374</td>\n      <td>1.232831</td>\n      <td>4.177296</td>\n      <td>0.963322</td>\n      <td>0.727232</td>\n      <td>...</td>\n      <td>0.151228</td>\n      <td>0.088965</td>\n      <td>0.017798</td>\n      <td>0.250000</td>\n      <td>0.201497</td>\n      <td>0.007812</td>\n      <td>0.562500</td>\n      <td>0.554688</td>\n      <td>0.247119</td>\n      <td>male</td>\n    </tr>\n    <tr>\n      <th>4</th>\n      <td>0.135120</td>\n      <td>0.079146</td>\n      <td>0.124656</td>\n      <td>0.078720</td>\n      <td>0.206045</td>\n      <td>0.127325</td>\n      <td>1.101174</td>\n      <td>4.333713</td>\n      <td>0.971955</td>\n      <td>0.783568</td>\n      <td>...</td>\n      <td>0.135120</td>\n      <td>0.106398</td>\n      <td>0.016931</td>\n      <td>0.266667</td>\n      <td>0.712812</td>\n      <td>0.007812</td>\n      <td>5.484375</td>\n      <td>5.476562</td>\n      <td>0.208274</td>\n      <td>male</td>\n    </tr>\n  </tbody>\n</table>\n<p>5 rows × 21 columns</p>\n</div>"
     },
     "execution_count": 81,
     "metadata": {},
     "output_type": "execute_result"
    }
   ],
   "source": [
    "df = pd.read_csv('dataset/voice.csv')\n",
    "df.head()"
   ],
   "metadata": {
    "collapsed": false,
    "ExecuteTime": {
     "end_time": "2023-09-20T04:51:05.618775400Z",
     "start_time": "2023-09-20T04:51:05.323289Z"
    }
   },
   "id": "b1fed21a112f3bb5"
  },
  {
   "cell_type": "code",
   "execution_count": 82,
   "outputs": [
    {
     "data": {
      "text/plain": "          meanfreq           sd       median          Q25          Q75  \\\ncount  3168.000000  3168.000000  3168.000000  3168.000000  3168.000000   \nmean      0.180907     0.057126     0.185621     0.140456     0.224765   \nstd       0.029918     0.016652     0.036360     0.048680     0.023639   \nmin       0.039363     0.018363     0.010975     0.000229     0.042946   \n25%       0.163662     0.041954     0.169593     0.111087     0.208747   \n50%       0.184838     0.059155     0.190032     0.140286     0.225684   \n75%       0.199146     0.067020     0.210618     0.175939     0.243660   \nmax       0.251124     0.115273     0.261224     0.247347     0.273469   \n\n               IQR         skew         kurt       sp.ent          sfm  \\\ncount  3168.000000  3168.000000  3168.000000  3168.000000  3168.000000   \nmean      0.084309     3.140168    36.568461     0.895127     0.408216   \nstd       0.042783     4.240529   134.928661     0.044980     0.177521   \nmin       0.014558     0.141735     2.068455     0.738651     0.036876   \n25%       0.042560     1.649569     5.669547     0.861811     0.258041   \n50%       0.094280     2.197101     8.318463     0.901767     0.396335   \n75%       0.114175     2.931694    13.648905     0.928713     0.533676   \nmax       0.252225    34.725453  1309.612887     0.981997     0.842936   \n\n              mode     centroid      meanfun       minfun       maxfun  \\\ncount  3168.000000  3168.000000  3168.000000  3168.000000  3168.000000   \nmean      0.165282     0.180907     0.142807     0.036802     0.258842   \nstd       0.077203     0.029918     0.032304     0.019220     0.030077   \nmin       0.000000     0.039363     0.055565     0.009775     0.103093   \n25%       0.118016     0.163662     0.116998     0.018223     0.253968   \n50%       0.186599     0.184838     0.140519     0.046110     0.271186   \n75%       0.221104     0.199146     0.169581     0.047904     0.277457   \nmax       0.280000     0.251124     0.237636     0.204082     0.279114   \n\n           meandom       mindom       maxdom      dfrange      modindx  \ncount  3168.000000  3168.000000  3168.000000  3168.000000  3168.000000  \nmean      0.829211     0.052647     5.047277     4.994630     0.173752  \nstd       0.525205     0.063299     3.521157     3.520039     0.119454  \nmin       0.007812     0.004883     0.007812     0.000000     0.000000  \n25%       0.419828     0.007812     2.070312     2.044922     0.099766  \n50%       0.765795     0.023438     4.992188     4.945312     0.139357  \n75%       1.177166     0.070312     7.007812     6.992188     0.209183  \nmax       2.957682     0.458984    21.867188    21.843750     0.932374  ",
      "text/html": "<div>\n<style scoped>\n    .dataframe tbody tr th:only-of-type {\n        vertical-align: middle;\n    }\n\n    .dataframe tbody tr th {\n        vertical-align: top;\n    }\n\n    .dataframe thead th {\n        text-align: right;\n    }\n</style>\n<table border=\"1\" class=\"dataframe\">\n  <thead>\n    <tr style=\"text-align: right;\">\n      <th></th>\n      <th>meanfreq</th>\n      <th>sd</th>\n      <th>median</th>\n      <th>Q25</th>\n      <th>Q75</th>\n      <th>IQR</th>\n      <th>skew</th>\n      <th>kurt</th>\n      <th>sp.ent</th>\n      <th>sfm</th>\n      <th>mode</th>\n      <th>centroid</th>\n      <th>meanfun</th>\n      <th>minfun</th>\n      <th>maxfun</th>\n      <th>meandom</th>\n      <th>mindom</th>\n      <th>maxdom</th>\n      <th>dfrange</th>\n      <th>modindx</th>\n    </tr>\n  </thead>\n  <tbody>\n    <tr>\n      <th>count</th>\n      <td>3168.000000</td>\n      <td>3168.000000</td>\n      <td>3168.000000</td>\n      <td>3168.000000</td>\n      <td>3168.000000</td>\n      <td>3168.000000</td>\n      <td>3168.000000</td>\n      <td>3168.000000</td>\n      <td>3168.000000</td>\n      <td>3168.000000</td>\n      <td>3168.000000</td>\n      <td>3168.000000</td>\n      <td>3168.000000</td>\n      <td>3168.000000</td>\n      <td>3168.000000</td>\n      <td>3168.000000</td>\n      <td>3168.000000</td>\n      <td>3168.000000</td>\n      <td>3168.000000</td>\n      <td>3168.000000</td>\n    </tr>\n    <tr>\n      <th>mean</th>\n      <td>0.180907</td>\n      <td>0.057126</td>\n      <td>0.185621</td>\n      <td>0.140456</td>\n      <td>0.224765</td>\n      <td>0.084309</td>\n      <td>3.140168</td>\n      <td>36.568461</td>\n      <td>0.895127</td>\n      <td>0.408216</td>\n      <td>0.165282</td>\n      <td>0.180907</td>\n      <td>0.142807</td>\n      <td>0.036802</td>\n      <td>0.258842</td>\n      <td>0.829211</td>\n      <td>0.052647</td>\n      <td>5.047277</td>\n      <td>4.994630</td>\n      <td>0.173752</td>\n    </tr>\n    <tr>\n      <th>std</th>\n      <td>0.029918</td>\n      <td>0.016652</td>\n      <td>0.036360</td>\n      <td>0.048680</td>\n      <td>0.023639</td>\n      <td>0.042783</td>\n      <td>4.240529</td>\n      <td>134.928661</td>\n      <td>0.044980</td>\n      <td>0.177521</td>\n      <td>0.077203</td>\n      <td>0.029918</td>\n      <td>0.032304</td>\n      <td>0.019220</td>\n      <td>0.030077</td>\n      <td>0.525205</td>\n      <td>0.063299</td>\n      <td>3.521157</td>\n      <td>3.520039</td>\n      <td>0.119454</td>\n    </tr>\n    <tr>\n      <th>min</th>\n      <td>0.039363</td>\n      <td>0.018363</td>\n      <td>0.010975</td>\n      <td>0.000229</td>\n      <td>0.042946</td>\n      <td>0.014558</td>\n      <td>0.141735</td>\n      <td>2.068455</td>\n      <td>0.738651</td>\n      <td>0.036876</td>\n      <td>0.000000</td>\n      <td>0.039363</td>\n      <td>0.055565</td>\n      <td>0.009775</td>\n      <td>0.103093</td>\n      <td>0.007812</td>\n      <td>0.004883</td>\n      <td>0.007812</td>\n      <td>0.000000</td>\n      <td>0.000000</td>\n    </tr>\n    <tr>\n      <th>25%</th>\n      <td>0.163662</td>\n      <td>0.041954</td>\n      <td>0.169593</td>\n      <td>0.111087</td>\n      <td>0.208747</td>\n      <td>0.042560</td>\n      <td>1.649569</td>\n      <td>5.669547</td>\n      <td>0.861811</td>\n      <td>0.258041</td>\n      <td>0.118016</td>\n      <td>0.163662</td>\n      <td>0.116998</td>\n      <td>0.018223</td>\n      <td>0.253968</td>\n      <td>0.419828</td>\n      <td>0.007812</td>\n      <td>2.070312</td>\n      <td>2.044922</td>\n      <td>0.099766</td>\n    </tr>\n    <tr>\n      <th>50%</th>\n      <td>0.184838</td>\n      <td>0.059155</td>\n      <td>0.190032</td>\n      <td>0.140286</td>\n      <td>0.225684</td>\n      <td>0.094280</td>\n      <td>2.197101</td>\n      <td>8.318463</td>\n      <td>0.901767</td>\n      <td>0.396335</td>\n      <td>0.186599</td>\n      <td>0.184838</td>\n      <td>0.140519</td>\n      <td>0.046110</td>\n      <td>0.271186</td>\n      <td>0.765795</td>\n      <td>0.023438</td>\n      <td>4.992188</td>\n      <td>4.945312</td>\n      <td>0.139357</td>\n    </tr>\n    <tr>\n      <th>75%</th>\n      <td>0.199146</td>\n      <td>0.067020</td>\n      <td>0.210618</td>\n      <td>0.175939</td>\n      <td>0.243660</td>\n      <td>0.114175</td>\n      <td>2.931694</td>\n      <td>13.648905</td>\n      <td>0.928713</td>\n      <td>0.533676</td>\n      <td>0.221104</td>\n      <td>0.199146</td>\n      <td>0.169581</td>\n      <td>0.047904</td>\n      <td>0.277457</td>\n      <td>1.177166</td>\n      <td>0.070312</td>\n      <td>7.007812</td>\n      <td>6.992188</td>\n      <td>0.209183</td>\n    </tr>\n    <tr>\n      <th>max</th>\n      <td>0.251124</td>\n      <td>0.115273</td>\n      <td>0.261224</td>\n      <td>0.247347</td>\n      <td>0.273469</td>\n      <td>0.252225</td>\n      <td>34.725453</td>\n      <td>1309.612887</td>\n      <td>0.981997</td>\n      <td>0.842936</td>\n      <td>0.280000</td>\n      <td>0.251124</td>\n      <td>0.237636</td>\n      <td>0.204082</td>\n      <td>0.279114</td>\n      <td>2.957682</td>\n      <td>0.458984</td>\n      <td>21.867188</td>\n      <td>21.843750</td>\n      <td>0.932374</td>\n    </tr>\n  </tbody>\n</table>\n</div>"
     },
     "execution_count": 82,
     "metadata": {},
     "output_type": "execute_result"
    }
   ],
   "source": [
    "df.describe()"
   ],
   "metadata": {
    "collapsed": false,
    "ExecuteTime": {
     "end_time": "2023-09-20T04:51:05.762911200Z",
     "start_time": "2023-09-20T04:51:05.356117500Z"
    }
   },
   "id": "48c1d074d88b7424"
  },
  {
   "cell_type": "code",
   "execution_count": 83,
   "outputs": [
    {
     "name": "stdout",
     "output_type": "stream",
     "text": [
      "<class 'pandas.core.frame.DataFrame'>\n",
      "RangeIndex: 3168 entries, 0 to 3167\n",
      "Data columns (total 21 columns):\n",
      " #   Column    Non-Null Count  Dtype  \n",
      "---  ------    --------------  -----  \n",
      " 0   meanfreq  3168 non-null   float64\n",
      " 1   sd        3168 non-null   float64\n",
      " 2   median    3168 non-null   float64\n",
      " 3   Q25       3168 non-null   float64\n",
      " 4   Q75       3168 non-null   float64\n",
      " 5   IQR       3168 non-null   float64\n",
      " 6   skew      3168 non-null   float64\n",
      " 7   kurt      3168 non-null   float64\n",
      " 8   sp.ent    3168 non-null   float64\n",
      " 9   sfm       3168 non-null   float64\n",
      " 10  mode      3168 non-null   float64\n",
      " 11  centroid  3168 non-null   float64\n",
      " 12  meanfun   3168 non-null   float64\n",
      " 13  minfun    3168 non-null   float64\n",
      " 14  maxfun    3168 non-null   float64\n",
      " 15  meandom   3168 non-null   float64\n",
      " 16  mindom    3168 non-null   float64\n",
      " 17  maxdom    3168 non-null   float64\n",
      " 18  dfrange   3168 non-null   float64\n",
      " 19  modindx   3168 non-null   float64\n",
      " 20  label     3168 non-null   object \n",
      "dtypes: float64(20), object(1)\n",
      "memory usage: 519.9+ KB\n"
     ]
    }
   ],
   "source": [
    "df.info()"
   ],
   "metadata": {
    "collapsed": false,
    "ExecuteTime": {
     "end_time": "2023-09-20T04:51:05.764894100Z",
     "start_time": "2023-09-20T04:51:05.392384400Z"
    }
   },
   "id": "cf2f690a77747b9a"
  },
  {
   "cell_type": "code",
   "execution_count": 84,
   "outputs": [
    {
     "data": {
      "text/plain": "meanfreq    0\nsd          0\nmedian      0\nQ25         0\nQ75         0\nIQR         0\nskew        0\nkurt        0\nsp.ent      0\nsfm         0\nmode        0\ncentroid    0\nmeanfun     0\nminfun      0\nmaxfun      0\nmeandom     0\nmindom      0\nmaxdom      0\ndfrange     0\nmodindx     0\nlabel       0\ndtype: int64"
     },
     "execution_count": 84,
     "metadata": {},
     "output_type": "execute_result"
    }
   ],
   "source": [
    "df.isnull().sum()"
   ],
   "metadata": {
    "collapsed": false,
    "ExecuteTime": {
     "end_time": "2023-09-20T04:51:05.764894100Z",
     "start_time": "2023-09-20T04:51:05.402308800Z"
    }
   },
   "id": "988d841d51bb9bfe"
  },
  {
   "cell_type": "markdown",
   "source": [
    "Terlihat data sudah aman, tidak perlu membenarkan masalah `null`, selanjutnya kita  akan coba melakukan encoding terhadap label"
   ],
   "metadata": {
    "collapsed": false
   },
   "id": "3d54325304f29269"
  },
  {
   "cell_type": "code",
   "execution_count": 85,
   "outputs": [
    {
     "data": {
      "text/plain": "0    1\n1    1\n2    1\n3    1\n4    1\nName: label, dtype: int32"
     },
     "execution_count": 85,
     "metadata": {},
     "output_type": "execute_result"
    }
   ],
   "source": [
    "encoder = LabelEncoder()\n",
    "df['label'] = encoder.fit_transform(df['label'])\n",
    "df['label'].head()"
   ],
   "metadata": {
    "collapsed": false,
    "ExecuteTime": {
     "end_time": "2023-09-20T04:51:05.764894100Z",
     "start_time": "2023-09-20T04:51:05.411824500Z"
    }
   },
   "id": "a1cb40a635950064"
  },
  {
   "cell_type": "markdown",
   "source": [
    "Mengubah male dan female menjadi angka 0 dan 1"
   ],
   "metadata": {
    "collapsed": false
   },
   "id": "70c28e19f2c147b5"
  },
  {
   "cell_type": "code",
   "execution_count": 86,
   "outputs": [
    {
     "data": {
      "text/plain": "<Figure size 1000x800 with 2 Axes>",
      "image/png": "[encoded data removed]"
     },
     "metadata": {},
     "output_type": "display_data"
    }
   ],
   "source": [
    "plt.figure(figsize=(10, 8))\n",
    "corr_matrix = df.corr() \n",
    "sns.set(font_scale=1.2) \n",
    "sns.heatmap(corr_matrix, \n",
    "            cmap='coolwarm',\n",
    "            linewidths=0.5, \n",
    "            fmt=\".2f\",\n",
    "            cbar=True, \n",
    "            square=True) \n",
    "\n",
    "plt.title('Heatmap Korelasi') \n",
    "plt.show()\n"
   ],
   "metadata": {
    "collapsed": false,
    "ExecuteTime": {
     "end_time": "2023-09-20T04:51:05.975892500Z",
     "start_time": "2023-09-20T04:51:05.421473900Z"
    }
   },
   "id": "c29a6386b0809cfd"
  },
  {
   "cell_type": "code",
   "execution_count": 87,
   "outputs": [],
   "source": [
    "df.drop(['dfrange', 'centroid'], axis=1, inplace=True)"
   ],
   "metadata": {
    "collapsed": false,
    "ExecuteTime": {
     "end_time": "2023-09-20T04:51:05.975892500Z",
     "start_time": "2023-09-20T04:51:05.906852200Z"
    }
   },
   "id": "e02e0115dd2d35b5"
  },
  {
   "cell_type": "code",
   "execution_count": 88,
   "outputs": [],
   "source": [
    "X = df[df.columns.difference(['label'])]\n",
    "y = df['label']"
   ],
   "metadata": {
    "collapsed": false,
    "ExecuteTime": {
     "end_time": "2023-09-20T04:51:05.976897300Z",
     "start_time": "2023-09-20T04:51:05.912295600Z"
    }
   },
   "id": "b29f1b80b4b5069"
  },
  {
   "cell_type": "code",
   "execution_count": 89,
   "outputs": [
    {
     "data": {
      "text/plain": "array([[-0.21477826, -2.57610164, -5.69360723, ...,  0.4715753 ,\n         2.29330585, -0.03908279],\n       [-0.25848536, -2.48688452, -5.58898726, ...,  0.59443122,\n         4.54805598, -0.06523603],\n       [ 0.90932569, -2.7069865 , -3.92869875, ...,  0.39826097,\n         6.51365636, -1.08373029],\n       ...,\n       [ 2.49266553, -2.1990394 , -0.01712269, ...,  1.38585653,\n        -0.29804429,  1.15019826],\n       [ 2.15365344, -1.99185206, -0.20402146, ...,  1.50571108,\n        -0.36536651,  1.22984967],\n       [ 2.25467137, -1.44608897,  1.10267866, ...,  1.08912637,\n        -0.33848726,  0.97175912]])"
     },
     "execution_count": 89,
     "metadata": {},
     "output_type": "execute_result"
    }
   ],
   "source": [
    "scaler = StandardScaler()\n",
    "X = scaler.fit_transform(X)\n",
    "X"
   ],
   "metadata": {
    "collapsed": false,
    "ExecuteTime": {
     "end_time": "2023-09-20T04:51:05.976897300Z",
     "start_time": "2023-09-20T04:51:05.921190400Z"
    }
   },
   "id": "542449c0e7f20de8"
  },
  {
   "cell_type": "code",
   "execution_count": 90,
   "outputs": [
    {
     "data": {
      "text/plain": "Text(0, 0.5, 'No. of persons')"
     },
     "execution_count": 90,
     "metadata": {},
     "output_type": "execute_result"
    },
    {
     "data": {
      "text/plain": "<Figure size 1500x500 with 1 Axes>",
      "image/png": "[encoded data removed]"
     },
     "metadata": {},
     "output_type": "display_data"
    }
   ],
   "source": [
    "df['label'].value_counts().plot(kind='bar',figsize = (15,5),fontsize = 14,colormap='Dark2')\n",
    "plt.xlabel('Gender')\n",
    "plt.ylabel('No. of persons')"
   ],
   "metadata": {
    "collapsed": false,
    "ExecuteTime": {
     "end_time": "2023-09-20T04:51:06.112623Z",
     "start_time": "2023-09-20T04:51:05.934349900Z"
    }
   },
   "id": "200c0dfa98c37dc4"
  },
  {
   "cell_type": "markdown",
   "source": [
    "Melakukan split data set menjadi 30% dan 70%"
   ],
   "metadata": {
    "collapsed": false
   },
   "id": "7d2addfa2279cd83"
  },
  {
   "cell_type": "code",
   "execution_count": 91,
   "outputs": [],
   "source": [
    "X_train, X_test, y_train, y_test = train_test_split(X, y, test_size=0.3)"
   ],
   "metadata": {
    "collapsed": false,
    "ExecuteTime": {
     "end_time": "2023-09-20T04:51:06.117601700Z",
     "start_time": "2023-09-20T04:51:06.066114400Z"
    }
   },
   "id": "dd23a71e962706f0"
  },
  {
   "cell_type": "markdown",
   "source": [
    "Import SVM Model"
   ],
   "metadata": {
    "collapsed": false
   },
   "id": "dad783589e72125f"
  },
  {
   "cell_type": "code",
   "execution_count": 92,
   "outputs": [],
   "source": [
    "from sklearn.svm import SVC\n",
    "from sklearn import metrics\n",
    "svc=SVC()"
   ],
   "metadata": {
    "collapsed": false,
    "ExecuteTime": {
     "end_time": "2023-09-20T04:51:06.118595400Z",
     "start_time": "2023-09-20T04:51:06.071668900Z"
    }
   },
   "id": "4557a06319db8b99"
  },
  {
   "cell_type": "markdown",
   "source": [
    "Melakukan prediksi dengan model SVC"
   ],
   "metadata": {
    "collapsed": false
   },
   "id": "d0265e48d693b55d"
  },
  {
   "cell_type": "code",
   "execution_count": 93,
   "outputs": [
    {
     "name": "stdout",
     "output_type": "stream",
     "text": [
      "Accuracy Score : 97%\n"
     ]
    }
   ],
   "source": [
    "svc.fit(X_train,y_train)\n",
    "y_pred = svc.predict(X_test)\n",
    "acc = metrics.accuracy_score(y_test,y_pred)\n",
    "print(f'Accuracy Score : {int(acc * 100)}%')"
   ],
   "metadata": {
    "collapsed": false,
    "ExecuteTime": {
     "end_time": "2023-09-20T04:51:06.204570200Z",
     "start_time": "2023-09-20T04:51:06.076596Z"
    }
   },
   "id": "402237df4adab2c9"
  },
  {
   "cell_type": "markdown",
   "source": [
    "## Accuracy Score\n",
    "\n",
    "Didapatkan mencapai 97%"
   ],
   "metadata": {
    "collapsed": false
   },
   "id": "b6c8cc2663177bf5"
  },
  {
   "cell_type": "markdown",
   "source": [
    "## Challenge 2"
   ],
   "metadata": {
    "collapsed": false
   },
   "id": "ff9d9f652b03ff62"
  },
  {
   "cell_type": "code",
   "execution_count": 94,
   "outputs": [
    {
     "data": {
      "text/plain": "     v1                                                 v2 Unnamed: 2  \\\n0   ham  Go until jurong point, crazy.. Available only ...        NaN   \n1   ham                      Ok lar... Joking wif u oni...        NaN   \n2  spam  Free entry in 2 a wkly comp to win FA Cup fina...        NaN   \n3   ham  U dun say so early hor... U c already then say...        NaN   \n4   ham  Nah I don't think he goes to usf, he lives aro...        NaN   \n\n  Unnamed: 3 Unnamed: 4  \n0        NaN        NaN  \n1        NaN        NaN  \n2        NaN        NaN  \n3        NaN        NaN  \n4        NaN        NaN  ",
      "text/html": "<div>\n<style scoped>\n    .dataframe tbody tr th:only-of-type {\n        vertical-align: middle;\n    }\n\n    .dataframe tbody tr th {\n        vertical-align: top;\n    }\n\n    .dataframe thead th {\n        text-align: right;\n    }\n</style>\n<table border=\"1\" class=\"dataframe\">\n  <thead>\n    <tr style=\"text-align: right;\">\n      <th></th>\n      <th>v1</th>\n      <th>v2</th>\n      <th>Unnamed: 2</th>\n      <th>Unnamed: 3</th>\n      <th>Unnamed: 4</th>\n    </tr>\n  </thead>\n  <tbody>\n    <tr>\n      <th>0</th>\n      <td>ham</td>\n      <td>Go until jurong point, crazy.. Available only ...</td>\n      <td>NaN</td>\n      <td>NaN</td>\n      <td>NaN</td>\n    </tr>\n    <tr>\n      <th>1</th>\n      <td>ham</td>\n      <td>Ok lar... Joking wif u oni...</td>\n      <td>NaN</td>\n      <td>NaN</td>\n      <td>NaN</td>\n    </tr>\n    <tr>\n      <th>2</th>\n      <td>spam</td>\n      <td>Free entry in 2 a wkly comp to win FA Cup fina...</td>\n      <td>NaN</td>\n      <td>NaN</td>\n      <td>NaN</td>\n    </tr>\n    <tr>\n      <th>3</th>\n      <td>ham</td>\n      <td>U dun say so early hor... U c already then say...</td>\n      <td>NaN</td>\n      <td>NaN</td>\n      <td>NaN</td>\n    </tr>\n    <tr>\n      <th>4</th>\n      <td>ham</td>\n      <td>Nah I don't think he goes to usf, he lives aro...</td>\n      <td>NaN</td>\n      <td>NaN</td>\n      <td>NaN</td>\n    </tr>\n  </tbody>\n</table>\n</div>"
     },
     "execution_count": 94,
     "metadata": {},
     "output_type": "execute_result"
    }
   ],
   "source": [
    "df = pd.read_csv('dataset/spam.csv', encoding='ISO-8859–1') \n",
    "df.head()"
   ],
   "metadata": {
    "collapsed": false,
    "ExecuteTime": {
     "end_time": "2023-09-20T04:51:06.205574700Z",
     "start_time": "2023-09-20T04:51:06.174325500Z"
    }
   },
   "id": "f6e4f817ee2b8cc9"
  },
  {
   "cell_type": "code",
   "execution_count": 95,
   "outputs": [
    {
     "data": {
      "text/plain": "     v1                                                 v2\n0   ham  Go until jurong point, crazy.. Available only ...\n1   ham                      Ok lar... Joking wif u oni...\n2  spam  Free entry in 2 a wkly comp to win FA Cup fina...\n3   ham  U dun say so early hor... U c already then say...\n4   ham  Nah I don't think he goes to usf, he lives aro...",
      "text/html": "<div>\n<style scoped>\n    .dataframe tbody tr th:only-of-type {\n        vertical-align: middle;\n    }\n\n    .dataframe tbody tr th {\n        vertical-align: top;\n    }\n\n    .dataframe thead th {\n        text-align: right;\n    }\n</style>\n<table border=\"1\" class=\"dataframe\">\n  <thead>\n    <tr style=\"text-align: right;\">\n      <th></th>\n      <th>v1</th>\n      <th>v2</th>\n    </tr>\n  </thead>\n  <tbody>\n    <tr>\n      <th>0</th>\n      <td>ham</td>\n      <td>Go until jurong point, crazy.. Available only ...</td>\n    </tr>\n    <tr>\n      <th>1</th>\n      <td>ham</td>\n      <td>Ok lar... Joking wif u oni...</td>\n    </tr>\n    <tr>\n      <th>2</th>\n      <td>spam</td>\n      <td>Free entry in 2 a wkly comp to win FA Cup fina...</td>\n    </tr>\n    <tr>\n      <th>3</th>\n      <td>ham</td>\n      <td>U dun say so early hor... U c already then say...</td>\n    </tr>\n    <tr>\n      <th>4</th>\n      <td>ham</td>\n      <td>Nah I don't think he goes to usf, he lives aro...</td>\n    </tr>\n  </tbody>\n</table>\n</div>"
     },
     "execution_count": 95,
     "metadata": {},
     "output_type": "execute_result"
    }
   ],
   "source": [
    "df = df.drop(df.iloc[:, 2:], axis=1)\n",
    "df.head()"
   ],
   "metadata": {
    "collapsed": false,
    "ExecuteTime": {
     "end_time": "2023-09-20T04:51:06.205574700Z",
     "start_time": "2023-09-20T04:51:06.178791600Z"
    }
   },
   "id": "fed7301d028b28f"
  },
  {
   "cell_type": "code",
   "execution_count": 96,
   "outputs": [
    {
     "data": {
      "text/plain": "  Labels                                                SMS\n0    ham  Go until jurong point, crazy.. Available only ...\n1    ham                      Ok lar... Joking wif u oni...\n2   spam  Free entry in 2 a wkly comp to win FA Cup fina...\n3    ham  U dun say so early hor... U c already then say...\n4    ham  Nah I don't think he goes to usf, he lives aro...",
      "text/html": "<div>\n<style scoped>\n    .dataframe tbody tr th:only-of-type {\n        vertical-align: middle;\n    }\n\n    .dataframe tbody tr th {\n        vertical-align: top;\n    }\n\n    .dataframe thead th {\n        text-align: right;\n    }\n</style>\n<table border=\"1\" class=\"dataframe\">\n  <thead>\n    <tr style=\"text-align: right;\">\n      <th></th>\n      <th>Labels</th>\n      <th>SMS</th>\n    </tr>\n  </thead>\n  <tbody>\n    <tr>\n      <th>0</th>\n      <td>ham</td>\n      <td>Go until jurong point, crazy.. Available only ...</td>\n    </tr>\n    <tr>\n      <th>1</th>\n      <td>ham</td>\n      <td>Ok lar... Joking wif u oni...</td>\n    </tr>\n    <tr>\n      <th>2</th>\n      <td>spam</td>\n      <td>Free entry in 2 a wkly comp to win FA Cup fina...</td>\n    </tr>\n    <tr>\n      <th>3</th>\n      <td>ham</td>\n      <td>U dun say so early hor... U c already then say...</td>\n    </tr>\n    <tr>\n      <th>4</th>\n      <td>ham</td>\n      <td>Nah I don't think he goes to usf, he lives aro...</td>\n    </tr>\n  </tbody>\n</table>\n</div>"
     },
     "execution_count": 96,
     "metadata": {},
     "output_type": "execute_result"
    }
   ],
   "source": [
    "cols = {\n",
    "    'v1' : 'Labels',\n",
    "    'v2' : 'SMS'\n",
    "}\n",
    "\n",
    "df = df.rename(columns=cols)\n",
    "df.head()"
   ],
   "metadata": {
    "collapsed": false,
    "ExecuteTime": {
     "end_time": "2023-09-20T04:51:06.227462100Z",
     "start_time": "2023-09-20T04:51:06.188730300Z"
    }
   },
   "id": "c48f43e216872eb4"
  },
  {
   "cell_type": "code",
   "execution_count": 97,
   "outputs": [
    {
     "data": {
      "text/plain": "   Labels                                                SMS\n0       0  Go until jurong point, crazy.. Available only ...\n1       0                      Ok lar... Joking wif u oni...\n2       1  Free entry in 2 a wkly comp to win FA Cup fina...\n3       0  U dun say so early hor... U c already then say...\n4       0  Nah I don't think he goes to usf, he lives aro...",
      "text/html": "<div>\n<style scoped>\n    .dataframe tbody tr th:only-of-type {\n        vertical-align: middle;\n    }\n\n    .dataframe tbody tr th {\n        vertical-align: top;\n    }\n\n    .dataframe thead th {\n        text-align: right;\n    }\n</style>\n<table border=\"1\" class=\"dataframe\">\n  <thead>\n    <tr style=\"text-align: right;\">\n      <th></th>\n      <th>Labels</th>\n      <th>SMS</th>\n    </tr>\n  </thead>\n  <tbody>\n    <tr>\n      <th>0</th>\n      <td>0</td>\n      <td>Go until jurong point, crazy.. Available only ...</td>\n    </tr>\n    <tr>\n      <th>1</th>\n      <td>0</td>\n      <td>Ok lar... Joking wif u oni...</td>\n    </tr>\n    <tr>\n      <th>2</th>\n      <td>1</td>\n      <td>Free entry in 2 a wkly comp to win FA Cup fina...</td>\n    </tr>\n    <tr>\n      <th>3</th>\n      <td>0</td>\n      <td>U dun say so early hor... U c already then say...</td>\n    </tr>\n    <tr>\n      <th>4</th>\n      <td>0</td>\n      <td>Nah I don't think he goes to usf, he lives aro...</td>\n    </tr>\n  </tbody>\n</table>\n</div>"
     },
     "execution_count": 97,
     "metadata": {},
     "output_type": "execute_result"
    }
   ],
   "source": [
    "labels = {\n",
    "    'spam' : 1,\n",
    "    'ham' : 0\n",
    "}\n",
    "\n",
    "df['Labels'] = df['Labels'].map(labels)\n",
    "df.head()"
   ],
   "metadata": {
    "collapsed": false,
    "ExecuteTime": {
     "end_time": "2023-09-20T04:51:06.231464500Z",
     "start_time": "2023-09-20T04:51:06.197441100Z"
    }
   },
   "id": "1394f460af82f9bd"
  },
  {
   "cell_type": "code",
   "execution_count": 98,
   "outputs": [],
   "source": [
    "X = df['SMS'].values\n",
    "y = df['Labels'].values"
   ],
   "metadata": {
    "collapsed": false,
    "ExecuteTime": {
     "end_time": "2023-09-20T04:51:06.231464500Z",
     "start_time": "2023-09-20T04:51:06.207576800Z"
    }
   },
   "id": "b77f35a25f54a1fa"
  },
  {
   "cell_type": "code",
   "execution_count": 99,
   "outputs": [],
   "source": [
    "from sklearn.feature_extraction.text import CountVectorizer\n",
    "\n",
    "cv = CountVectorizer(decode_error='ignore', stop_words='english')\n",
    "X = cv.fit_transform(X)"
   ],
   "metadata": {
    "collapsed": false,
    "ExecuteTime": {
     "end_time": "2023-09-20T04:51:06.439477700Z",
     "start_time": "2023-09-20T04:51:06.213462600Z"
    }
   },
   "id": "1c3a119f4b5c3b14"
  },
  {
   "cell_type": "markdown",
   "source": [
    "Split dataset menjadi 2 bagian dengan train 70% dan test 30%"
   ],
   "metadata": {
    "collapsed": false
   },
   "id": "a2e63ff788b7178c"
  },
  {
   "cell_type": "code",
   "execution_count": 100,
   "outputs": [],
   "source": [
    "X_train, X_test, y_train, y_test = train_test_split(X, y, test_size=0.3, random_state=50)"
   ],
   "metadata": {
    "collapsed": false,
    "ExecuteTime": {
     "end_time": "2023-09-20T04:51:06.439477700Z",
     "start_time": "2023-09-20T04:51:06.282486700Z"
    }
   },
   "id": "ca57762bbb9323e4"
  },
  {
   "cell_type": "markdown",
   "source": [
    "Melakukan import dan fit data menggunakan model MultinomialNB"
   ],
   "metadata": {
    "collapsed": false
   },
   "id": "15de0c84ea0c93"
  },
  {
   "cell_type": "code",
   "execution_count": 101,
   "outputs": [
    {
     "name": "stdout",
     "output_type": "stream",
     "text": [
      "training accuracy is -->  99.51282051282051\n",
      "test accuracy is -->  97.54784688995215\n"
     ]
    }
   ],
   "source": [
    "from sklearn.naive_bayes import MultinomialNB\n",
    "\n",
    "model = MultinomialNB()\n",
    "model.fit(X_train, y_train)\n",
    "\n",
    "print('training accuracy is --> ',model.score(X_train,y_train) * 100)\n",
    "print('test accuracy is --> ',model.score(X_test,y_test) * 100)"
   ],
   "metadata": {
    "collapsed": false,
    "ExecuteTime": {
     "end_time": "2023-09-20T04:51:06.439477700Z",
     "start_time": "2023-09-20T04:51:06.289604100Z"
    }
   },
   "id": "f3494e5f49506f61"
  },
  {
   "cell_type": "markdown",
   "source": [
    "Selanjutnya kita mencoba dengan TfidVectorizer dengan stop_words english"
   ],
   "metadata": {
    "collapsed": false
   },
   "id": "6d85f81ee3b55171"
  },
  {
   "cell_type": "code",
   "execution_count": 102,
   "outputs": [],
   "source": [
    "from sklearn.feature_extraction.text import TfidfVectorizer\n",
    "cv = TfidfVectorizer(stop_words='english')"
   ],
   "metadata": {
    "collapsed": false,
    "ExecuteTime": {
     "end_time": "2023-09-20T04:51:06.439477700Z",
     "start_time": "2023-09-20T04:51:06.299307400Z"
    }
   },
   "id": "ffa429bc464aaafd"
  },
  {
   "cell_type": "markdown",
   "source": [
    "Mendapatkan data SMS untuk X dan y untuk Label supaya membedakan antara dependant dan independent variable"
   ],
   "metadata": {
    "collapsed": false
   },
   "id": "ea00da2abfa00c3"
  },
  {
   "cell_type": "code",
   "execution_count": 103,
   "outputs": [],
   "source": [
    "X = df['SMS'].values\n",
    "y = df['Labels'].values"
   ],
   "metadata": {
    "collapsed": false,
    "ExecuteTime": {
     "end_time": "2023-09-20T04:51:06.440482500Z",
     "start_time": "2023-09-20T04:51:06.304186600Z"
    }
   },
   "id": "1c7cd4947e88ee5a"
  },
  {
   "cell_type": "code",
   "execution_count": 104,
   "outputs": [],
   "source": [
    "X = cv.fit_transform(X)"
   ],
   "metadata": {
    "collapsed": false,
    "ExecuteTime": {
     "end_time": "2023-09-20T04:51:06.584887300Z",
     "start_time": "2023-09-20T04:51:06.308563700Z"
    }
   },
   "id": "66a763ca77189310"
  },
  {
   "cell_type": "code",
   "execution_count": 105,
   "outputs": [],
   "source": [
    "X_train, X_test, y_train, y_test = train_test_split(X, y, test_size=0.3, random_state=50)"
   ],
   "metadata": {
    "collapsed": false,
    "ExecuteTime": {
     "end_time": "2023-09-20T04:51:06.585885500Z",
     "start_time": "2023-09-20T04:51:06.405226900Z"
    }
   },
   "id": "a80de2d83ddda237"
  },
  {
   "cell_type": "code",
   "execution_count": 106,
   "outputs": [
    {
     "name": "stdout",
     "output_type": "stream",
     "text": [
      "training accuracy is -->  98.17948717948718\n",
      "test accuracy is -->  96.11244019138756\n"
     ]
    }
   ],
   "source": [
    "model = MultinomialNB()\n",
    "model.fit(X_train, y_train)\n",
    "\n",
    "print('training accuracy is --> ',model.score(X_train,y_train) * 100)\n",
    "print('test accuracy is --> ',model.score(X_test,y_test) * 100)"
   ],
   "metadata": {
    "collapsed": false,
    "ExecuteTime": {
     "end_time": "2023-09-20T04:51:06.585885500Z",
     "start_time": "2023-09-20T04:51:06.415373200Z"
    }
   },
   "id": "c8b4bdc626ad801a"
  },
  {
   "cell_type": "code",
   "execution_count": 106,
   "outputs": [],
   "source": [],
   "metadata": {
    "collapsed": false,
    "ExecuteTime": {
     "end_time": "2023-09-20T04:51:06.585885500Z",
     "start_time": "2023-09-20T04:51:06.428101600Z"
    }
   },
   "id": "1fe185be0f2cc45b"
  }
 ],
 "metadata": {
  "kernelspec": {
   "display_name": "Python 3",
   "language": "python",
   "name": "python3"
  },
  "language_info": {
   "codemirror_mode": {
    "name": "ipython",
    "version": 2
   },
   "file_extension": ".py",
   "mimetype": "text/x-python",
   "name": "python",
   "nbconvert_exporter": "python",
   "pygments_lexer": "ipython2",
   "version": "2.7.6"
  }
 },
 "nbformat": 4,
 "nbformat_minor": 5
}
