{
 "cells": [
  {
   "cell_type": "markdown",
   "source": [
    "<div style=\"background-color: #00796B; text-align: center; padding: 20px;\">\n",
    "    <p style=\"color: white; font-size: 36px;\">Diabetes Data Analysis</p>\n",
    "    <p style=\"color: white;\">by: Ali Zulfikar</p>\n",
    "</div>"
   ],
   "metadata": {
    "collapsed": false
   },
   "id": "d1f4e49cb6d3c14c"
  },
  {
   "cell_type": "markdown",
   "source": [
    "<div style=\"background-color: #00796B; text-align: center; padding: 20px; border-radius: 10px;\">\n",
    "    <p style=\"color: white; font-size: 28px;\">Import Library</p>\n",
    "</div>"
   ],
   "metadata": {
    "collapsed": false
   },
   "id": "455429e590ff67fb"
  },
  {
   "cell_type": "code",
   "execution_count": 37,
   "id": "initial_id",
   "metadata": {
    "collapsed": true,
    "ExecuteTime": {
     "end_time": "2023-10-04T14:47:59.015357400Z",
     "start_time": "2023-10-04T14:47:58.863076700Z"
    }
   },
   "outputs": [],
   "source": [
    "import numpy as np\n",
    "import pandas as pd\n",
    "from sklearn.model_selection import train_test_split\n",
    "from sklearn.ensemble import VotingClassifier\n",
    "from sklearn.linear_model import LogisticRegression\n",
    "from sklearn.svm import SVC\n",
    "from sklearn.tree import DecisionTreeClassifier\n",
    "from sklearn.metrics import accuracy_score\n",
    "from fasteda import fast_eda\n",
    "from sklearn.preprocessing import StandardScaler, MinMaxScaler"
   ]
  },
  {
   "cell_type": "code",
   "execution_count": 38,
   "outputs": [
    {
     "data": {
      "text/plain": "   Pregnancies  Glucose  BloodPressure  SkinThickness  Insulin   BMI  \\\n0            6      148             72             35        0  33.6   \n1            1       85             66             29        0  26.6   \n2            8      183             64              0        0  23.3   \n3            1       89             66             23       94  28.1   \n4            0      137             40             35      168  43.1   \n\n   DiabetesPedigreeFunction  Age  Outcome  \n0                     0.627   50        1  \n1                     0.351   31        0  \n2                     0.672   32        1  \n3                     0.167   21        0  \n4                     2.288   33        1  ",
      "text/html": "<div>\n<style scoped>\n    .dataframe tbody tr th:only-of-type {\n        vertical-align: middle;\n    }\n\n    .dataframe tbody tr th {\n        vertical-align: top;\n    }\n\n    .dataframe thead th {\n        text-align: right;\n    }\n</style>\n<table border=\"1\" class=\"dataframe\">\n  <thead>\n    <tr style=\"text-align: right;\">\n      <th></th>\n      <th>Pregnancies</th>\n      <th>Glucose</th>\n      <th>BloodPressure</th>\n      <th>SkinThickness</th>\n      <th>Insulin</th>\n      <th>BMI</th>\n      <th>DiabetesPedigreeFunction</th>\n      <th>Age</th>\n      <th>Outcome</th>\n    </tr>\n  </thead>\n  <tbody>\n    <tr>\n      <th>0</th>\n      <td>6</td>\n      <td>148</td>\n      <td>72</td>\n      <td>35</td>\n      <td>0</td>\n      <td>33.6</td>\n      <td>0.627</td>\n      <td>50</td>\n      <td>1</td>\n    </tr>\n    <tr>\n      <th>1</th>\n      <td>1</td>\n      <td>85</td>\n      <td>66</td>\n      <td>29</td>\n      <td>0</td>\n      <td>26.6</td>\n      <td>0.351</td>\n      <td>31</td>\n      <td>0</td>\n    </tr>\n    <tr>\n      <th>2</th>\n      <td>8</td>\n      <td>183</td>\n      <td>64</td>\n      <td>0</td>\n      <td>0</td>\n      <td>23.3</td>\n      <td>0.672</td>\n      <td>32</td>\n      <td>1</td>\n    </tr>\n    <tr>\n      <th>3</th>\n      <td>1</td>\n      <td>89</td>\n      <td>66</td>\n      <td>23</td>\n      <td>94</td>\n      <td>28.1</td>\n      <td>0.167</td>\n      <td>21</td>\n      <td>0</td>\n    </tr>\n    <tr>\n      <th>4</th>\n      <td>0</td>\n      <td>137</td>\n      <td>40</td>\n      <td>35</td>\n      <td>168</td>\n      <td>43.1</td>\n      <td>2.288</td>\n      <td>33</td>\n      <td>1</td>\n    </tr>\n  </tbody>\n</table>\n</div>"
     },
     "execution_count": 38,
     "metadata": {},
     "output_type": "execute_result"
    }
   ],
   "source": [
    "df = pd.read_csv('data/diabetes.csv')\n",
    "df.head()"
   ],
   "metadata": {
    "collapsed": false,
    "ExecuteTime": {
     "end_time": "2023-10-04T14:47:59.176575400Z",
     "start_time": "2023-10-04T14:47:58.870615300Z"
    }
   },
   "id": "bbf668546d38d624"
  },
  {
   "cell_type": "markdown",
   "source": [
    "<div style=\"background-color: #00796B; text-align: center; padding: 20px; border-radius: 10px;\">\n",
    "    <p style=\"color: white; font-size: 28px;\">EDA Time~</p>\n",
    "</div>"
   ],
   "metadata": {
    "collapsed": false
   },
   "id": "f8eba245e1a62047"
  },
  {
   "cell_type": "code",
   "execution_count": 39,
   "outputs": [
    {
     "data": {
      "text/plain": "       Pregnancies     Glucose  BloodPressure  SkinThickness     Insulin  \\\ncount   768.000000  768.000000     768.000000     768.000000  768.000000   \nmean      3.845052  120.894531      69.105469      20.536458   79.799479   \nstd       3.369578   31.972618      19.355807      15.952218  115.244002   \nmin       0.000000    0.000000       0.000000       0.000000    0.000000   \n25%       1.000000   99.000000      62.000000       0.000000    0.000000   \n50%       3.000000  117.000000      72.000000      23.000000   30.500000   \n75%       6.000000  140.250000      80.000000      32.000000  127.250000   \nmax      17.000000  199.000000     122.000000      99.000000  846.000000   \n\n              BMI  DiabetesPedigreeFunction         Age     Outcome  \ncount  768.000000                768.000000  768.000000  768.000000  \nmean    31.992578                  0.471876   33.240885    0.348958  \nstd      7.884160                  0.331329   11.760232    0.476951  \nmin      0.000000                  0.078000   21.000000    0.000000  \n25%     27.300000                  0.243750   24.000000    0.000000  \n50%     32.000000                  0.372500   29.000000    0.000000  \n75%     36.600000                  0.626250   41.000000    1.000000  \nmax     67.100000                  2.420000   81.000000    1.000000  ",
      "text/html": "<div>\n<style scoped>\n    .dataframe tbody tr th:only-of-type {\n        vertical-align: middle;\n    }\n\n    .dataframe tbody tr th {\n        vertical-align: top;\n    }\n\n    .dataframe thead th {\n        text-align: right;\n    }\n</style>\n<table border=\"1\" class=\"dataframe\">\n  <thead>\n    <tr style=\"text-align: right;\">\n      <th></th>\n      <th>Pregnancies</th>\n      <th>Glucose</th>\n      <th>BloodPressure</th>\n      <th>SkinThickness</th>\n      <th>Insulin</th>\n      <th>BMI</th>\n      <th>DiabetesPedigreeFunction</th>\n      <th>Age</th>\n      <th>Outcome</th>\n    </tr>\n  </thead>\n  <tbody>\n    <tr>\n      <th>count</th>\n      <td>768.000000</td>\n      <td>768.000000</td>\n      <td>768.000000</td>\n      <td>768.000000</td>\n      <td>768.000000</td>\n      <td>768.000000</td>\n      <td>768.000000</td>\n      <td>768.000000</td>\n      <td>768.000000</td>\n    </tr>\n    <tr>\n      <th>mean</th>\n      <td>3.845052</td>\n      <td>120.894531</td>\n      <td>69.105469</td>\n      <td>20.536458</td>\n      <td>79.799479</td>\n      <td>31.992578</td>\n      <td>0.471876</td>\n      <td>33.240885</td>\n      <td>0.348958</td>\n    </tr>\n    <tr>\n      <th>std</th>\n      <td>3.369578</td>\n      <td>31.972618</td>\n      <td>19.355807</td>\n      <td>15.952218</td>\n      <td>115.244002</td>\n      <td>7.884160</td>\n      <td>0.331329</td>\n      <td>11.760232</td>\n      <td>0.476951</td>\n    </tr>\n    <tr>\n      <th>min</th>\n      <td>0.000000</td>\n      <td>0.000000</td>\n      <td>0.000000</td>\n      <td>0.000000</td>\n      <td>0.000000</td>\n      <td>0.000000</td>\n      <td>0.078000</td>\n      <td>21.000000</td>\n      <td>0.000000</td>\n    </tr>\n    <tr>\n      <th>25%</th>\n      <td>1.000000</td>\n      <td>99.000000</td>\n      <td>62.000000</td>\n      <td>0.000000</td>\n      <td>0.000000</td>\n      <td>27.300000</td>\n      <td>0.243750</td>\n      <td>24.000000</td>\n      <td>0.000000</td>\n    </tr>\n    <tr>\n      <th>50%</th>\n      <td>3.000000</td>\n      <td>117.000000</td>\n      <td>72.000000</td>\n      <td>23.000000</td>\n      <td>30.500000</td>\n      <td>32.000000</td>\n      <td>0.372500</td>\n      <td>29.000000</td>\n      <td>0.000000</td>\n    </tr>\n    <tr>\n      <th>75%</th>\n      <td>6.000000</td>\n      <td>140.250000</td>\n      <td>80.000000</td>\n      <td>32.000000</td>\n      <td>127.250000</td>\n      <td>36.600000</td>\n      <td>0.626250</td>\n      <td>41.000000</td>\n      <td>1.000000</td>\n    </tr>\n    <tr>\n      <th>max</th>\n      <td>17.000000</td>\n      <td>199.000000</td>\n      <td>122.000000</td>\n      <td>99.000000</td>\n      <td>846.000000</td>\n      <td>67.100000</td>\n      <td>2.420000</td>\n      <td>81.000000</td>\n      <td>1.000000</td>\n    </tr>\n  </tbody>\n</table>\n</div>"
     },
     "execution_count": 39,
     "metadata": {},
     "output_type": "execute_result"
    }
   ],
   "source": [
    "df.describe()"
   ],
   "metadata": {
    "collapsed": false,
    "ExecuteTime": {
     "end_time": "2023-10-04T14:47:59.176575400Z",
     "start_time": "2023-10-04T14:47:58.892215300Z"
    }
   },
   "id": "a983a02fd7688d00"
  },
  {
   "cell_type": "code",
   "execution_count": 40,
   "outputs": [
    {
     "data": {
      "text/plain": "Pregnancies                 0\nGlucose                     0\nBloodPressure               0\nSkinThickness               0\nInsulin                     0\nBMI                         0\nDiabetesPedigreeFunction    0\nAge                         0\nOutcome                     0\ndtype: int64"
     },
     "execution_count": 40,
     "metadata": {},
     "output_type": "execute_result"
    }
   ],
   "source": [
    "df.isnull().sum()"
   ],
   "metadata": {
    "collapsed": false,
    "ExecuteTime": {
     "end_time": "2023-10-04T14:47:59.180027300Z",
     "start_time": "2023-10-04T14:47:58.924225Z"
    }
   },
   "id": "45d1780969e89baf"
  },
  {
   "cell_type": "code",
   "execution_count": 41,
   "outputs": [
    {
     "name": "stdout",
     "output_type": "stream",
     "text": [
      "<class 'pandas.core.frame.DataFrame'>\n",
      "RangeIndex: 768 entries, 0 to 767\n",
      "Data columns (total 9 columns):\n",
      " #   Column                    Non-Null Count  Dtype  \n",
      "---  ------                    --------------  -----  \n",
      " 0   Pregnancies               768 non-null    int64  \n",
      " 1   Glucose                   768 non-null    int64  \n",
      " 2   BloodPressure             768 non-null    int64  \n",
      " 3   SkinThickness             768 non-null    int64  \n",
      " 4   Insulin                   768 non-null    int64  \n",
      " 5   BMI                       768 non-null    float64\n",
      " 6   DiabetesPedigreeFunction  768 non-null    float64\n",
      " 7   Age                       768 non-null    int64  \n",
      " 8   Outcome                   768 non-null    int64  \n",
      "dtypes: float64(2), int64(7)\n",
      "memory usage: 54.1 KB\n"
     ]
    }
   ],
   "source": [
    "df.info()"
   ],
   "metadata": {
    "collapsed": false,
    "ExecuteTime": {
     "end_time": "2023-10-04T14:47:59.180027300Z",
     "start_time": "2023-10-04T14:47:58.935745300Z"
    }
   },
   "id": "6a4da87b5bfcd4a0"
  },
  {
   "cell_type": "code",
   "execution_count": 42,
   "outputs": [
    {
     "data": {
      "text/plain": "Outcome\n0    500\n1    268\nName: count, dtype: int64"
     },
     "execution_count": 42,
     "metadata": {},
     "output_type": "execute_result"
    }
   ],
   "source": [
    "df['Outcome'].value_counts()"
   ],
   "metadata": {
    "collapsed": false,
    "ExecuteTime": {
     "end_time": "2023-10-04T14:47:59.190543400Z",
     "start_time": "2023-10-04T14:47:58.943708300Z"
    }
   },
   "id": "c99bfc5b96dc4940"
  },
  {
   "cell_type": "code",
   "execution_count": 43,
   "outputs": [],
   "source": [
    "X = df.iloc[:, :-1].values\n",
    "y = df.iloc[:, -1]"
   ],
   "metadata": {
    "collapsed": false,
    "ExecuteTime": {
     "end_time": "2023-10-04T14:47:59.190543400Z",
     "start_time": "2023-10-04T14:47:58.950859700Z"
    }
   },
   "id": "7e3f85ded93acb68"
  },
  {
   "cell_type": "markdown",
   "source": [
    "<div style=\"background-color: #FF796B; text-align: center; padding: 20px; border-radius: 10px; box-shadow: 0px 4px 6px rgba(0, 0, 0, 0.1);\">\n",
    "    <p style=\"color: white; font-size: 28px; font-weight: bold;\">Wah ada masalah nih</p>\n",
    "</div>\n",
    "\n",
    "<p align=\"center\">Datanya imblanace, ada baiknya kita lakukan oversampling terlebih dahulu</p>"
   ],
   "metadata": {
    "collapsed": false
   },
   "id": "bc32f46261f2a0f9"
  },
  {
   "cell_type": "markdown",
   "source": [
    "<div style=\"background-color: #F5A623; text-align: center; padding: 20px; border-radius: 10px; box-shadow: 0px 4px 6px rgba(0, 0, 0, 0.1);\">\n",
    "    <p style=\"color: white; font-size: 24px; font-weight: bold;\">Oversampling: Menyeimbangkan Ketidakseimbangan Kelas</p>\n",
    "</div>\n",
    "\n",
    "<p align=\"justify\">Masalah ini muncul ketika kelas minoritas memiliki jumlah sampel yang jauh lebih sedikit dibandingkan kelas mayoritas. Oversampling bertujuan untuk mengatasi ketidakseimbangan ini dengan meningkatkan jumlah sampel di kelas minoritas hingga mencapai tingkat proporsi yang lebih seimbang.</p>\n",
    "\n",
    "<p align=\"justify\">Mengapa ini penting? Karena jika kita tidak mengatasi ketidakseimbangan ini, model cenderung menjadi bias terhadap kelas mayoritas yang memiliki lebih banyak sampel. Akibatnya, kemampuan model untuk memprediksi kelas minoritas dapat sangat terganggu.</p>\n",
    "\n",
    "<p align=\"justify\">Oversampling adalah alat yang kuat untuk memperbaiki masalah ini. Ini memungkinkan model untuk memiliki pandangan yang lebih seimbang terhadap setiap kelas, sehingga meningkatkan kemampuannya untuk memprediksi kelas minoritas dengan akurasi yang lebih baik.</p>"
   ],
   "metadata": {
    "collapsed": false
   },
   "id": "597ebff9405b940"
  },
  {
   "cell_type": "code",
   "execution_count": 44,
   "outputs": [
    {
     "data": {
      "text/plain": "Counter({1: 500, 0: 500})"
     },
     "execution_count": 44,
     "metadata": {},
     "output_type": "execute_result"
    }
   ],
   "source": [
    "from imblearn.over_sampling import RandomOverSampler\n",
    "from collections import Counter\n",
    "\n",
    "sampler = RandomOverSampler()\n",
    "X, y = sampler.fit_resample(X, y)\n",
    "\n",
    "Counter(y)"
   ],
   "metadata": {
    "collapsed": false,
    "ExecuteTime": {
     "end_time": "2023-10-04T14:47:59.190543400Z",
     "start_time": "2023-10-04T14:47:58.959399500Z"
    }
   },
   "id": "a3a7818e94b0e783"
  },
  {
   "cell_type": "markdown",
   "source": [
    "<div style=\"background-color: #00796B; text-align: center; padding: 20px; border-radius: 10px; box-shadow: 0px 4px 6px rgba(0, 0, 0, 0.1);\">\n",
    "    <p style=\"color: white; font-size: 28px; font-weight: bold;\">Terkait Masalah Skala Fitur</p>\n",
    "</div>\n",
    "\n",
    "<p align=\"center\">Dalam analisis data, kita sering dihadapkan pada masalah skala yang berbeda-beda pada setiap fitur. Perbedaan ini dapat memengaruhi hasil analisis kita.</p>\n",
    "\n",
    "<p align=\"center\">Untuk mengatasi masalah ini, langkah pertama yang perlu kita lakukan adalah <span style=\"font-weight: bold;\">StandardScaler</span>. StandardScaler akan membantu kita untuk menormalkan skala setiap fitur sehingga hasil analisis lebih konsisten dan dapat diandalkan.</p>"
   ],
   "metadata": {
    "collapsed": false
   },
   "id": "2a41668703c040d6"
  },
  {
   "cell_type": "code",
   "execution_count": 45,
   "outputs": [],
   "source": [
    "scaler = StandardScaler()\n",
    "X = scaler.fit_transform(X)"
   ],
   "metadata": {
    "collapsed": false,
    "ExecuteTime": {
     "end_time": "2023-10-04T14:47:59.191633300Z",
     "start_time": "2023-10-04T14:47:58.970986700Z"
    }
   },
   "id": "50519ea95de3b2d9"
  },
  {
   "cell_type": "markdown",
   "source": [
    "<div style=\"background-color: #00796B; text-align: center; padding: 20px; border-radius: 10px; box-shadow: 0px 4px 6px rgba(0, 0, 0, 0.1);\">\n",
    "    <p style=\"color: white; font-size: 28px; font-weight: bold;\">Split Dataset</p>\n",
    "</div>"
   ],
   "metadata": {
    "collapsed": false
   },
   "id": "e6953dff4f0894a7"
  },
  {
   "cell_type": "code",
   "execution_count": 59,
   "outputs": [],
   "source": [
    "X_train, X_test, y_train, y_test = train_test_split(X, y, test_size=0.1, random_state=32)"
   ],
   "metadata": {
    "collapsed": false,
    "ExecuteTime": {
     "end_time": "2023-10-04T14:53:19.559950700Z",
     "start_time": "2023-10-04T14:53:19.547359800Z"
    }
   },
   "id": "bddc52971414323e"
  },
  {
   "cell_type": "markdown",
   "source": [
    "<div style=\"background-color: #00796B; text-align: center; padding: 20px; border-radius: 10px; box-shadow: 0px 4px 6px rgba(0, 0, 0, 0.1);\">\n",
    "    <p style=\"color: white; font-size: 28px; font-weight: bold;\">Pembuatan 3 Model untuk Meta Learning</p>\n",
    "</div>\n",
    "\n",
    "<p align=\"justify\">Dalam konteks meta learning, kita akan membangun tiga model yang berbeda untuk tugas pembelajaran yang berbeda-beda. Ketiga model ini akan digunakan sebagai bagian dari sistem meta learning untuk menggabungkan pengetahuan mereka dan membuat prediksi yang lebih baik. Berikut adalah penjelasan singkat tentang ketiga model tersebut:</p>\n",
    "\n",
    "1. **Logistic Regression**\n",
    "   - Model ini merupakan salah satu model klasifikasi linear yang paling sederhana.\n",
    "   - Digunakan untuk memodelkan hubungan antara variabel independen dan dependen dengan mengestimasi probabilitas kelas target.\n",
    "   - Cocok untuk tugas klasifikasi biner atau multikelas.\n",
    "   - Digunakan di banyak aplikasi, termasuk analisis data medis dan pemodelan risiko.\n",
    "\n",
    "2. **SVM dengan Kernel Polynomial**\n",
    "   - Model ini merupakan varian dari Support Vector Machine (SVM) yang menggunakan kernel polinomial.\n",
    "   - SVM adalah model klasifikasi yang kuat dan sering digunakan dalam tugas-tugas pemisahan kelas yang kompleks.\n",
    "   - Kernel polinomial mengubah data menjadi dimensi yang lebih tinggi untuk memungkinkan pemisahan yang lebih baik antara kelas.\n",
    "   - Berguna untuk tugas klasifikasi yang memiliki hubungan non-linear antara fitur dan kelas.\n",
    "\n",
    "3. **Decision Tree**\n",
    "   - Model ini menggambarkan keputusan dan konsekuensinya dalam bentuk pohon.\n",
    "   - Digunakan untuk tugas klasifikasi dan regresi.\n",
    "   - Memudahkan interpretasi dan pemahaman tentang faktor-faktor yang memengaruhi prediksi.\n",
    "   - Cocok untuk tugas klasifikasi yang memerlukan pemahaman tentang logika keputusan.\n",
    "\n",
    "<p align=\"justify\">Setiap model ini memiliki karakteristik dan kegunaannya masing-masing dalam konteks meta learning. Kombinasi dari ketiga model ini dapat membantu dalam membuat prediksi yang lebih akurat dan memiliki keunggulan dalam berbagai situasi pembelajaran mesin.</p>"
   ],
   "metadata": {
    "collapsed": false
   },
   "id": "a6f71a7fea55b7c7"
  },
  {
   "cell_type": "code",
   "execution_count": 63,
   "outputs": [],
   "source": [
    "logistic_reg = LogisticRegression()\n",
    "svm_poly = SVC(kernel='poly')\n",
    "decision_tree = DecisionTreeClassifier()"
   ],
   "metadata": {
    "collapsed": false,
    "ExecuteTime": {
     "end_time": "2023-10-04T14:55:28.868584200Z",
     "start_time": "2023-10-04T14:55:28.865586800Z"
    }
   },
   "id": "c6a86095a2a68e8a"
  },
  {
   "cell_type": "markdown",
   "source": [
    "<div style=\"background-color: #00796B; text-align: center; padding: 20px; border-radius: 10px; box-shadow: 0px 4px 6px rgba(0, 0, 0, 0.1);\">\n",
    "    <p style=\"color: white; font-size: 28px; font-weight: bold;\">Pembuatan Ensemble Model</p>\n",
    "</div>\n",
    "\n",
    "<p align=\"justify\">Dalam tahap ini, Anda telah membuat sebuah <span style=\"font-weight: bold;\">ensemble model</span> yang akan memanfaatkan kekuatan dari tiga model yang berbeda untuk meningkatkan kemampuan prediksi. Berikut adalah beberapa poin penting terkait dengan kode ini:</p>\n",
    "\n",
    "1. **VotingClassifier**: Menggunakan `VotingClassifier` untuk membuat model ensemble dengan cara menggabungkan beberapa model ke dalam satu model.\n",
    "\n",
    "2. **Estimators**: Dalam parameter `estimators`, kita menyediakan daftar estimator (model) yang akan digabungkan dalam ensemble. Dalam hal ini, Anda memiliki tiga estimator: 'lr' untuk Logistic Regression, 'svm' untuk SVM dengan kernel polynomial, dan 'dt' untuk Decision Tree. Ketiga model ini akan berkontribusi dalam pembuatan prediksi ensemble.\n",
    "\n",
    "3. **Voting Type**: Anda mengatur parameter `voting` ke 'hard'. Ini berarti ensemble akan memilih kelas mayoritas berdasarkan mayoritas suara dari model-model individu. Dalam konteks klasifikasi, kelas yang dipilih adalah kelas yang paling sering diprediksi oleh model-model individu.\n",
    "\n",
    "4. **Pelatihan Model**: Setelah menginisialisasi ensemble model dengan estimator yang sesuai, Anda melatih model menggunakan data latih dengan memanggil `.fit(X_train, y_train)`.\n",
    "\n",
    "<p align=\"justify\">Dengan ensemble model ini, Anda akan dapat menggabungkan kekuatan tiga model yang berbeda untuk meningkatkan kemampuan prediksi Anda. Ini dapat sangat bermanfaat dalam pemecahan masalah klasifikasi yang kompleks.</p>"
   ],
   "metadata": {
    "collapsed": false
   },
   "id": "5f8c4a0cd4f6657b"
  },
  {
   "cell_type": "code",
   "execution_count": 64,
   "outputs": [
    {
     "data": {
      "text/plain": "VotingClassifier(estimators=[('lr', LogisticRegression()),\n                             ('svm', SVC(kernel='poly')),\n                             ('dt', DecisionTreeClassifier())])",
      "text/html": "<style>#sk-container-id-4 {color: black;}#sk-container-id-4 pre{padding: 0;}#sk-container-id-4 div.sk-toggleable {background-color: white;}#sk-container-id-4 label.sk-toggleable__label {cursor: pointer;display: block;width: 100%;margin-bottom: 0;padding: 0.3em;box-sizing: border-box;text-align: center;}#sk-container-id-4 label.sk-toggleable__label-arrow:before {content: \"▸\";float: left;margin-right: 0.25em;color: #696969;}#sk-container-id-4 label.sk-toggleable__label-arrow:hover:before {color: black;}#sk-container-id-4 div.sk-estimator:hover label.sk-toggleable__label-arrow:before {color: black;}#sk-container-id-4 div.sk-toggleable__content {max-height: 0;max-width: 0;overflow: hidden;text-align: left;background-color: #f0f8ff;}#sk-container-id-4 div.sk-toggleable__content pre {margin: 0.2em;color: black;border-radius: 0.25em;background-color: #f0f8ff;}#sk-container-id-4 input.sk-toggleable__control:checked~div.sk-toggleable__content {max-height: 200px;max-width: 100%;overflow: auto;}#sk-container-id-4 input.sk-toggleable__control:checked~label.sk-toggleable__label-arrow:before {content: \"▾\";}#sk-container-id-4 div.sk-estimator input.sk-toggleable__control:checked~label.sk-toggleable__label {background-color: #d4ebff;}#sk-container-id-4 div.sk-label input.sk-toggleable__control:checked~label.sk-toggleable__label {background-color: #d4ebff;}#sk-container-id-4 input.sk-hidden--visually {border: 0;clip: rect(1px 1px 1px 1px);clip: rect(1px, 1px, 1px, 1px);height: 1px;margin: -1px;overflow: hidden;padding: 0;position: absolute;width: 1px;}#sk-container-id-4 div.sk-estimator {font-family: monospace;background-color: #f0f8ff;border: 1px dotted black;border-radius: 0.25em;box-sizing: border-box;margin-bottom: 0.5em;}#sk-container-id-4 div.sk-estimator:hover {background-color: #d4ebff;}#sk-container-id-4 div.sk-parallel-item::after {content: \"\";width: 100%;border-bottom: 1px solid gray;flex-grow: 1;}#sk-container-id-4 div.sk-label:hover label.sk-toggleable__label {background-color: #d4ebff;}#sk-container-id-4 div.sk-serial::before {content: \"\";position: absolute;border-left: 1px solid gray;box-sizing: border-box;top: 0;bottom: 0;left: 50%;z-index: 0;}#sk-container-id-4 div.sk-serial {display: flex;flex-direction: column;align-items: center;background-color: white;padding-right: 0.2em;padding-left: 0.2em;position: relative;}#sk-container-id-4 div.sk-item {position: relative;z-index: 1;}#sk-container-id-4 div.sk-parallel {display: flex;align-items: stretch;justify-content: center;background-color: white;position: relative;}#sk-container-id-4 div.sk-item::before, #sk-container-id-4 div.sk-parallel-item::before {content: \"\";position: absolute;border-left: 1px solid gray;box-sizing: border-box;top: 0;bottom: 0;left: 50%;z-index: -1;}#sk-container-id-4 div.sk-parallel-item {display: flex;flex-direction: column;z-index: 1;position: relative;background-color: white;}#sk-container-id-4 div.sk-parallel-item:first-child::after {align-self: flex-end;width: 50%;}#sk-container-id-4 div.sk-parallel-item:last-child::after {align-self: flex-start;width: 50%;}#sk-container-id-4 div.sk-parallel-item:only-child::after {width: 0;}#sk-container-id-4 div.sk-dashed-wrapped {border: 1px dashed gray;margin: 0 0.4em 0.5em 0.4em;box-sizing: border-box;padding-bottom: 0.4em;background-color: white;}#sk-container-id-4 div.sk-label label {font-family: monospace;font-weight: bold;display: inline-block;line-height: 1.2em;}#sk-container-id-4 div.sk-label-container {text-align: center;}#sk-container-id-4 div.sk-container {/* jupyter's `normalize.less` sets `[hidden] { display: none; }` but bootstrap.min.css set `[hidden] { display: none !important; }` so we also need the `!important` here to be able to override the default hidden behavior on the sphinx rendered scikit-learn.org. See: https://github.com/scikit-learn/scikit-learn/issues/21755 */display: inline-block !important;position: relative;}#sk-container-id-4 div.sk-text-repr-fallback {display: none;}</style><div id=\"sk-container-id-4\" class=\"sk-top-container\"><div class=\"sk-text-repr-fallback\"><pre>VotingClassifier(estimators=[(&#x27;lr&#x27;, LogisticRegression()),\n                             (&#x27;svm&#x27;, SVC(kernel=&#x27;poly&#x27;)),\n                             (&#x27;dt&#x27;, DecisionTreeClassifier())])</pre><b>In a Jupyter environment, please rerun this cell to show the HTML representation or trust the notebook. <br />On GitHub, the HTML representation is unable to render, please try loading this page with nbviewer.org.</b></div><div class=\"sk-container\" hidden><div class=\"sk-item sk-dashed-wrapped\"><div class=\"sk-label-container\"><div class=\"sk-label sk-toggleable\"><input class=\"sk-toggleable__control sk-hidden--visually\" id=\"sk-estimator-id-13\" type=\"checkbox\" ><label for=\"sk-estimator-id-13\" class=\"sk-toggleable__label sk-toggleable__label-arrow\">VotingClassifier</label><div class=\"sk-toggleable__content\"><pre>VotingClassifier(estimators=[(&#x27;lr&#x27;, LogisticRegression()),\n                             (&#x27;svm&#x27;, SVC(kernel=&#x27;poly&#x27;)),\n                             (&#x27;dt&#x27;, DecisionTreeClassifier())])</pre></div></div></div><div class=\"sk-parallel\"><div class=\"sk-parallel-item\"><div class=\"sk-item\"><div class=\"sk-label-container\"><div class=\"sk-label sk-toggleable\"><label>lr</label></div></div><div class=\"sk-serial\"><div class=\"sk-item\"><div class=\"sk-estimator sk-toggleable\"><input class=\"sk-toggleable__control sk-hidden--visually\" id=\"sk-estimator-id-14\" type=\"checkbox\" ><label for=\"sk-estimator-id-14\" class=\"sk-toggleable__label sk-toggleable__label-arrow\">LogisticRegression</label><div class=\"sk-toggleable__content\"><pre>LogisticRegression()</pre></div></div></div></div></div></div><div class=\"sk-parallel-item\"><div class=\"sk-item\"><div class=\"sk-label-container\"><div class=\"sk-label sk-toggleable\"><label>svm</label></div></div><div class=\"sk-serial\"><div class=\"sk-item\"><div class=\"sk-estimator sk-toggleable\"><input class=\"sk-toggleable__control sk-hidden--visually\" id=\"sk-estimator-id-15\" type=\"checkbox\" ><label for=\"sk-estimator-id-15\" class=\"sk-toggleable__label sk-toggleable__label-arrow\">SVC</label><div class=\"sk-toggleable__content\"><pre>SVC(kernel=&#x27;poly&#x27;)</pre></div></div></div></div></div></div><div class=\"sk-parallel-item\"><div class=\"sk-item\"><div class=\"sk-label-container\"><div class=\"sk-label sk-toggleable\"><label>dt</label></div></div><div class=\"sk-serial\"><div class=\"sk-item\"><div class=\"sk-estimator sk-toggleable\"><input class=\"sk-toggleable__control sk-hidden--visually\" id=\"sk-estimator-id-16\" type=\"checkbox\" ><label for=\"sk-estimator-id-16\" class=\"sk-toggleable__label sk-toggleable__label-arrow\">DecisionTreeClassifier</label><div class=\"sk-toggleable__content\"><pre>DecisionTreeClassifier()</pre></div></div></div></div></div></div></div></div></div></div>"
     },
     "execution_count": 64,
     "metadata": {},
     "output_type": "execute_result"
    }
   ],
   "source": [
    "ensemble_model = VotingClassifier(estimators=[('lr', logistic_reg), ('svm', svm_poly), ('dt', decision_tree)], voting='hard')\n",
    "ensemble_model.fit(X_train, y_train)"
   ],
   "metadata": {
    "collapsed": false,
    "ExecuteTime": {
     "end_time": "2023-10-04T14:56:20.004392Z",
     "start_time": "2023-10-04T14:56:19.955821200Z"
    }
   },
   "id": "5028d7017da78ff4"
  },
  {
   "cell_type": "code",
   "execution_count": 65,
   "outputs": [
    {
     "name": "stdout",
     "output_type": "stream",
     "text": [
      "Akurasi Ensemble Voting: 85.0 %\n"
     ]
    }
   ],
   "source": [
    "y_pred = ensemble_model.predict(X_test)\n",
    "\n",
    "accuracy = accuracy_score(y_test, y_pred)\n",
    "print(\"Akurasi Ensemble Voting:\", accuracy * 100, \"%\")"
   ],
   "metadata": {
    "collapsed": false,
    "ExecuteTime": {
     "end_time": "2023-10-04T14:56:22.268838200Z",
     "start_time": "2023-10-04T14:56:22.258538600Z"
    }
   },
   "id": "e7ff706de84b1777"
  },
  {
   "cell_type": "code",
   "execution_count": 62,
   "outputs": [],
   "source": [],
   "metadata": {
    "collapsed": false,
    "ExecuteTime": {
     "end_time": "2023-10-04T14:53:21.457140700Z",
     "start_time": "2023-10-04T14:53:21.420274200Z"
    }
   },
   "id": "13ad4853aff65b8"
  }
 ],
 "metadata": {
  "kernelspec": {
   "display_name": "Python 3",
   "language": "python",
   "name": "python3"
  },
  "language_info": {
   "codemirror_mode": {
    "name": "ipython",
    "version": 2
   },
   "file_extension": ".py",
   "mimetype": "text/x-python",
   "name": "python",
   "nbconvert_exporter": "python",
   "pygments_lexer": "ipython2",
   "version": "2.7.6"
  }
 },
 "nbformat": 4,
 "nbformat_minor": 5
}
