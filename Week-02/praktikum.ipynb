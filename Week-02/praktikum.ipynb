{
 "cells": [
  {
   "cell_type": "markdown",
   "source": [
    "# Muhammad Ali Zulfikar\n",
    "## TI-3H\n",
    "### 2141720088 / 20\n",
    "\n",
    "Machine Learning Week #02"
   ],
   "metadata": {
    "collapsed": false
   },
   "id": "5af041af0a2d0f57"
  },
  {
   "cell_type": "markdown",
   "source": [
    "# PRAKTIKUM 1"
   ],
   "metadata": {
    "collapsed": false
   },
   "id": "4d4aeb30e044e8ee"
  },
  {
   "cell_type": "code",
   "execution_count": 131,
   "id": "initial_id",
   "metadata": {
    "collapsed": true,
    "ExecuteTime": {
     "end_time": "2023-09-06T02:41:34.904788300Z",
     "start_time": "2023-09-06T02:41:34.435723300Z"
    }
   },
   "outputs": [],
   "source": [
    "import pandas as pd\n",
    "from sklearn.preprocessing import LabelEncoder, StandardScaler\n",
    "from sklearn.model_selection import train_test_split"
   ]
  },
  {
   "cell_type": "code",
   "execution_count": 124,
   "outputs": [
    {
     "data": {
      "text/plain": "   PassengerId  Survived  Pclass  \\\n0            1         0       3   \n1            2         1       1   \n2            3         1       3   \n3            4         1       1   \n4            5         0       3   \n\n                                                Name     Sex   Age  SibSp  \\\n0                            Braund, Mr. Owen Harris    male  22.0      1   \n1  Cumings, Mrs. John Bradley (Florence Briggs Th...  female  38.0      1   \n2                             Heikkinen, Miss. Laina  female  26.0      0   \n3       Futrelle, Mrs. Jacques Heath (Lily May Peel)  female  35.0      1   \n4                           Allen, Mr. William Henry    male  35.0      0   \n\n   Parch            Ticket     Fare Cabin Embarked  \n0      0         A/5 21171   7.2500   NaN        S  \n1      0          PC 17599  71.2833   C85        C  \n2      0  STON/O2. 3101282   7.9250   NaN        S  \n3      0            113803  53.1000  C123        S  \n4      0            373450   8.0500   NaN        S  ",
      "text/html": "<div>\n<style scoped>\n    .dataframe tbody tr th:only-of-type {\n        vertical-align: middle;\n    }\n\n    .dataframe tbody tr th {\n        vertical-align: top;\n    }\n\n    .dataframe thead th {\n        text-align: right;\n    }\n</style>\n<table border=\"1\" class=\"dataframe\">\n  <thead>\n    <tr style=\"text-align: right;\">\n      <th></th>\n      <th>PassengerId</th>\n      <th>Survived</th>\n      <th>Pclass</th>\n      <th>Name</th>\n      <th>Sex</th>\n      <th>Age</th>\n      <th>SibSp</th>\n      <th>Parch</th>\n      <th>Ticket</th>\n      <th>Fare</th>\n      <th>Cabin</th>\n      <th>Embarked</th>\n    </tr>\n  </thead>\n  <tbody>\n    <tr>\n      <th>0</th>\n      <td>1</td>\n      <td>0</td>\n      <td>3</td>\n      <td>Braund, Mr. Owen Harris</td>\n      <td>male</td>\n      <td>22.0</td>\n      <td>1</td>\n      <td>0</td>\n      <td>A/5 21171</td>\n      <td>7.2500</td>\n      <td>NaN</td>\n      <td>S</td>\n    </tr>\n    <tr>\n      <th>1</th>\n      <td>2</td>\n      <td>1</td>\n      <td>1</td>\n      <td>Cumings, Mrs. John Bradley (Florence Briggs Th...</td>\n      <td>female</td>\n      <td>38.0</td>\n      <td>1</td>\n      <td>0</td>\n      <td>PC 17599</td>\n      <td>71.2833</td>\n      <td>C85</td>\n      <td>C</td>\n    </tr>\n    <tr>\n      <th>2</th>\n      <td>3</td>\n      <td>1</td>\n      <td>3</td>\n      <td>Heikkinen, Miss. Laina</td>\n      <td>female</td>\n      <td>26.0</td>\n      <td>0</td>\n      <td>0</td>\n      <td>STON/O2. 3101282</td>\n      <td>7.9250</td>\n      <td>NaN</td>\n      <td>S</td>\n    </tr>\n    <tr>\n      <th>3</th>\n      <td>4</td>\n      <td>1</td>\n      <td>1</td>\n      <td>Futrelle, Mrs. Jacques Heath (Lily May Peel)</td>\n      <td>female</td>\n      <td>35.0</td>\n      <td>1</td>\n      <td>0</td>\n      <td>113803</td>\n      <td>53.1000</td>\n      <td>C123</td>\n      <td>S</td>\n    </tr>\n    <tr>\n      <th>4</th>\n      <td>5</td>\n      <td>0</td>\n      <td>3</td>\n      <td>Allen, Mr. William Henry</td>\n      <td>male</td>\n      <td>35.0</td>\n      <td>0</td>\n      <td>0</td>\n      <td>373450</td>\n      <td>8.0500</td>\n      <td>NaN</td>\n      <td>S</td>\n    </tr>\n  </tbody>\n</table>\n</div>"
     },
     "execution_count": 124,
     "metadata": {},
     "output_type": "execute_result"
    }
   ],
   "source": [
    "df = pd.read_csv('dataset/Titanic-Dataset.csv')\n",
    "df.head()"
   ],
   "metadata": {
    "collapsed": false,
    "ExecuteTime": {
     "end_time": "2023-09-06T02:40:39.534867800Z",
     "start_time": "2023-09-06T02:40:39.512964300Z"
    }
   },
   "id": "f7ce9a1c0c1a650"
  },
  {
   "cell_type": "code",
   "execution_count": 125,
   "outputs": [
    {
     "name": "stdout",
     "output_type": "stream",
     "text": [
      "<class 'pandas.core.frame.DataFrame'>\n",
      "RangeIndex: 891 entries, 0 to 890\n",
      "Data columns (total 12 columns):\n",
      " #   Column       Non-Null Count  Dtype  \n",
      "---  ------       --------------  -----  \n",
      " 0   PassengerId  891 non-null    int64  \n",
      " 1   Survived     891 non-null    int64  \n",
      " 2   Pclass       891 non-null    int64  \n",
      " 3   Name         891 non-null    object \n",
      " 4   Sex          891 non-null    object \n",
      " 5   Age          714 non-null    float64\n",
      " 6   SibSp        891 non-null    int64  \n",
      " 7   Parch        891 non-null    int64  \n",
      " 8   Ticket       891 non-null    object \n",
      " 9   Fare         891 non-null    float64\n",
      " 10  Cabin        204 non-null    object \n",
      " 11  Embarked     889 non-null    object \n",
      "dtypes: float64(2), int64(5), object(5)\n",
      "memory usage: 83.7+ KB\n"
     ]
    }
   ],
   "source": [
    "df.info()"
   ],
   "metadata": {
    "collapsed": false,
    "ExecuteTime": {
     "end_time": "2023-09-06T02:40:39.811779200Z",
     "start_time": "2023-09-06T02:40:39.807768700Z"
    }
   },
   "id": "7cdee99b5cd40725"
  },
  {
   "cell_type": "markdown",
   "source": [
    "Well, bisa kita liat terdapat data yang berbeda jauh. Rata-rata data berjumlah 891, sedangkan ada beberapa data yang di bawah 891. Seperti **Embarked** atau **Cabin**, untuk memastikan asumsi apakah terdapat nilai null kita bisa melakukan pengecekan dengan \n",
    "\n",
    "```python\n",
    "df.isnull().sum()\n",
    "```"
   ],
   "metadata": {
    "collapsed": false
   },
   "id": "95a3e62cace6d286"
  },
  {
   "cell_type": "code",
   "execution_count": 126,
   "outputs": [
    {
     "data": {
      "text/plain": "PassengerId      0\nSurvived         0\nPclass           0\nName             0\nSex              0\nAge            177\nSibSp            0\nParch            0\nTicket           0\nFare             0\nCabin          687\nEmbarked         2\ndtype: int64"
     },
     "execution_count": 126,
     "metadata": {},
     "output_type": "execute_result"
    }
   ],
   "source": [
    "df.isnull().sum()"
   ],
   "metadata": {
    "collapsed": false,
    "ExecuteTime": {
     "end_time": "2023-09-06T02:40:40.477750100Z",
     "start_time": "2023-09-06T02:40:40.466672400Z"
    }
   },
   "id": "2b601c10f171c248"
  },
  {
   "cell_type": "markdown",
   "source": [
    "Sesuai data di atas, bisa dilihat bahwa 'Age' memiliki nilai NULL sebesar 177, 'Cabin' 687, dan 'Embarked' sebesar 2"
   ],
   "metadata": {
    "collapsed": false
   },
   "id": "39d6128ad23af3c6"
  },
  {
   "cell_type": "code",
   "execution_count": 129,
   "outputs": [],
   "source": [
    "df['Age'].fillna(value=df['Age'].mean(), inplace=True)\n",
    "df['Cabin'].fillna(value=\"DECK\", inplace=True)\n",
    "df['Embarked'].fillna(value=df['Embarked'].mode, inplace=True)"
   ],
   "metadata": {
    "collapsed": false,
    "ExecuteTime": {
     "end_time": "2023-09-06T02:40:50.366077900Z",
     "start_time": "2023-09-06T02:40:50.359189700Z"
    }
   },
   "id": "eed851de01d5011a"
  },
  {
   "cell_type": "markdown",
   "source": [
    "Langkah di atas kita melakukan pengisian nilai yang memiliki NaN dengan rata-rata, modus, atau nilai yang sudah pasti"
   ],
   "metadata": {
    "collapsed": false
   },
   "id": "e4498abb630e65bb"
  },
  {
   "cell_type": "code",
   "execution_count": 130,
   "outputs": [
    {
     "data": {
      "text/plain": "PassengerId    0\nSurvived       0\nPclass         0\nName           0\nSex            0\nAge            0\nSibSp          0\nParch          0\nTicket         0\nFare           0\nCabin          0\nEmbarked       0\ndtype: int64"
     },
     "execution_count": 130,
     "metadata": {},
     "output_type": "execute_result"
    }
   ],
   "source": [
    "df.isnull().sum()"
   ],
   "metadata": {
    "collapsed": false,
    "ExecuteTime": {
     "end_time": "2023-09-06T02:40:51.115581900Z",
     "start_time": "2023-09-06T02:40:51.103392500Z"
    }
   },
   "id": "d76713c94d0f8b90"
  },
  {
   "cell_type": "markdown",
   "source": [
    "# PRAKTIKUM 2"
   ],
   "metadata": {
    "collapsed": false
   },
   "id": "cf9b61b5897d0183"
  },
  {
   "cell_type": "markdown",
   "source": [
    "Selanjutnya, kita ingin melakukan analisis terhadap informasi penumpang yang tenggelam"
   ],
   "metadata": {
    "collapsed": false
   },
   "id": "93ad9b6f77fc902c"
  },
  {
   "cell_type": "code",
   "execution_count": 113,
   "outputs": [
    {
     "data": {
      "text/plain": "   Survived  Pclass     Sex   Age Cabin\n0         0       3    male  22.0  DECK\n1         1       1  female  38.0   C85\n2         1       3  female  26.0  DECK\n3         1       1  female  35.0  C123\n4         0       3    male  35.0  DECK",
      "text/html": "<div>\n<style scoped>\n    .dataframe tbody tr th:only-of-type {\n        vertical-align: middle;\n    }\n\n    .dataframe tbody tr th {\n        vertical-align: top;\n    }\n\n    .dataframe thead th {\n        text-align: right;\n    }\n</style>\n<table border=\"1\" class=\"dataframe\">\n  <thead>\n    <tr style=\"text-align: right;\">\n      <th></th>\n      <th>Survived</th>\n      <th>Pclass</th>\n      <th>Sex</th>\n      <th>Age</th>\n      <th>Cabin</th>\n    </tr>\n  </thead>\n  <tbody>\n    <tr>\n      <th>0</th>\n      <td>0</td>\n      <td>3</td>\n      <td>male</td>\n      <td>22.0</td>\n      <td>DECK</td>\n    </tr>\n    <tr>\n      <th>1</th>\n      <td>1</td>\n      <td>1</td>\n      <td>female</td>\n      <td>38.0</td>\n      <td>C85</td>\n    </tr>\n    <tr>\n      <th>2</th>\n      <td>1</td>\n      <td>3</td>\n      <td>female</td>\n      <td>26.0</td>\n      <td>DECK</td>\n    </tr>\n    <tr>\n      <th>3</th>\n      <td>1</td>\n      <td>1</td>\n      <td>female</td>\n      <td>35.0</td>\n      <td>C123</td>\n    </tr>\n    <tr>\n      <th>4</th>\n      <td>0</td>\n      <td>3</td>\n      <td>male</td>\n      <td>35.0</td>\n      <td>DECK</td>\n    </tr>\n  </tbody>\n</table>\n</div>"
     },
     "execution_count": 113,
     "metadata": {},
     "output_type": "execute_result"
    }
   ],
   "source": [
    "df_sliced = df[['Survived', 'Pclass', 'Sex', 'Age', 'Cabin']]\n",
    "df_sliced.head()"
   ],
   "metadata": {
    "collapsed": false,
    "ExecuteTime": {
     "end_time": "2023-09-06T02:32:13.172665300Z",
     "start_time": "2023-09-06T02:32:13.152145400Z"
    }
   },
   "id": "f58d0d8b6d9869f"
  },
  {
   "cell_type": "markdown",
   "source": [
    "Kita perlu memberikan Encoding Label terhadap **Sex** dan **Cabin**"
   ],
   "metadata": {
    "collapsed": false
   },
   "id": "f5620a7adbbd2f86"
  },
  {
   "cell_type": "code",
   "execution_count": null,
   "outputs": [],
   "source": [
    "encoder = LabelEncoder()\n",
    "df_sliced.loc[:, 'Sex'] = encoder.fit_transform(df_sliced['Sex'])\n",
    "df_sliced.loc[:, 'Cabin'] = encoder.fit_transform(df_sliced['Cabin'])"
   ],
   "metadata": {
    "collapsed": false
   },
   "id": "e194851c02f294d1"
  },
  {
   "cell_type": "code",
   "execution_count": 115,
   "outputs": [
    {
     "data": {
      "text/plain": "   Survived  Pclass  Sex   Age  Cabin\n0         0       3    1  22.0    115\n1         1       1    0  38.0     81\n2         1       3    0  26.0    115\n3         1       1    0  35.0     55\n4         0       3    1  35.0    115",
      "text/html": "<div>\n<style scoped>\n    .dataframe tbody tr th:only-of-type {\n        vertical-align: middle;\n    }\n\n    .dataframe tbody tr th {\n        vertical-align: top;\n    }\n\n    .dataframe thead th {\n        text-align: right;\n    }\n</style>\n<table border=\"1\" class=\"dataframe\">\n  <thead>\n    <tr style=\"text-align: right;\">\n      <th></th>\n      <th>Survived</th>\n      <th>Pclass</th>\n      <th>Sex</th>\n      <th>Age</th>\n      <th>Cabin</th>\n    </tr>\n  </thead>\n  <tbody>\n    <tr>\n      <th>0</th>\n      <td>0</td>\n      <td>3</td>\n      <td>1</td>\n      <td>22.0</td>\n      <td>115</td>\n    </tr>\n    <tr>\n      <th>1</th>\n      <td>1</td>\n      <td>1</td>\n      <td>0</td>\n      <td>38.0</td>\n      <td>81</td>\n    </tr>\n    <tr>\n      <th>2</th>\n      <td>1</td>\n      <td>3</td>\n      <td>0</td>\n      <td>26.0</td>\n      <td>115</td>\n    </tr>\n    <tr>\n      <th>3</th>\n      <td>1</td>\n      <td>1</td>\n      <td>0</td>\n      <td>35.0</td>\n      <td>55</td>\n    </tr>\n    <tr>\n      <th>4</th>\n      <td>0</td>\n      <td>3</td>\n      <td>1</td>\n      <td>35.0</td>\n      <td>115</td>\n    </tr>\n  </tbody>\n</table>\n</div>"
     },
     "execution_count": 115,
     "metadata": {},
     "output_type": "execute_result"
    }
   ],
   "source": [
    "df_sliced.head()"
   ],
   "metadata": {
    "collapsed": false,
    "ExecuteTime": {
     "end_time": "2023-09-06T02:32:15.149628100Z",
     "start_time": "2023-09-06T02:32:15.140016100Z"
    }
   },
   "id": "ab08026bdc54a3dc"
  },
  {
   "cell_type": "code",
   "execution_count": null,
   "outputs": [],
   "source": [
    "std = StandardScaler()\n",
    "df_sliced['Age'] = std.fit_transform(df_sliced['Age'].values.reshape(-1, 1))"
   ],
   "metadata": {
    "collapsed": false
   },
   "id": "aa69ad516f2b1d5b"
  },
  {
   "cell_type": "code",
   "execution_count": 117,
   "outputs": [
    {
     "data": {
      "text/plain": "   Survived  Pclass  Sex       Age  Cabin\n0         0       3    1 -0.592481    115\n1         1       1    0  0.638789     81\n2         1       3    0 -0.284663    115\n3         1       1    0  0.407926     55\n4         0       3    1  0.407926    115",
      "text/html": "<div>\n<style scoped>\n    .dataframe tbody tr th:only-of-type {\n        vertical-align: middle;\n    }\n\n    .dataframe tbody tr th {\n        vertical-align: top;\n    }\n\n    .dataframe thead th {\n        text-align: right;\n    }\n</style>\n<table border=\"1\" class=\"dataframe\">\n  <thead>\n    <tr style=\"text-align: right;\">\n      <th></th>\n      <th>Survived</th>\n      <th>Pclass</th>\n      <th>Sex</th>\n      <th>Age</th>\n      <th>Cabin</th>\n    </tr>\n  </thead>\n  <tbody>\n    <tr>\n      <th>0</th>\n      <td>0</td>\n      <td>3</td>\n      <td>1</td>\n      <td>-0.592481</td>\n      <td>115</td>\n    </tr>\n    <tr>\n      <th>1</th>\n      <td>1</td>\n      <td>1</td>\n      <td>0</td>\n      <td>0.638789</td>\n      <td>81</td>\n    </tr>\n    <tr>\n      <th>2</th>\n      <td>1</td>\n      <td>3</td>\n      <td>0</td>\n      <td>-0.284663</td>\n      <td>115</td>\n    </tr>\n    <tr>\n      <th>3</th>\n      <td>1</td>\n      <td>1</td>\n      <td>0</td>\n      <td>0.407926</td>\n      <td>55</td>\n    </tr>\n    <tr>\n      <th>4</th>\n      <td>0</td>\n      <td>3</td>\n      <td>1</td>\n      <td>0.407926</td>\n      <td>115</td>\n    </tr>\n  </tbody>\n</table>\n</div>"
     },
     "execution_count": 117,
     "metadata": {},
     "output_type": "execute_result"
    }
   ],
   "source": [
    "df_sliced.head()"
   ],
   "metadata": {
    "collapsed": false,
    "ExecuteTime": {
     "end_time": "2023-09-06T02:32:25.822279500Z",
     "start_time": "2023-09-06T02:32:25.802363300Z"
    }
   },
   "id": "1bff3e5adffd68e9"
  },
  {
   "cell_type": "markdown",
   "source": [
    "# Praktikum 3"
   ],
   "metadata": {
    "collapsed": false
   },
   "id": "a5572267d75dcc1e"
  },
  {
   "cell_type": "markdown",
   "source": [
    "### Random Split"
   ],
   "metadata": {
    "collapsed": false
   },
   "id": "aac296ba5362359f"
  },
  {
   "cell_type": "code",
   "execution_count": 132,
   "outputs": [],
   "source": [
    "df_train, df_unseen = train_test_split(df_sliced, test_size=0.2, random_state=0)\n",
    "df_val, df_test = train_test_split(df_unseen, test_size=0.5, random_state=0)"
   ],
   "metadata": {
    "collapsed": false,
    "ExecuteTime": {
     "end_time": "2023-09-06T02:46:06.475780500Z",
     "start_time": "2023-09-06T02:46:06.440730200Z"
    }
   },
   "id": "c92abf9b04069ad4"
  },
  {
   "cell_type": "code",
   "execution_count": 133,
   "outputs": [
    {
     "name": "stdout",
     "output_type": "stream",
     "text": [
      "Jumlah data asli: 891\n",
      "Jumlah data train: 712\n",
      "Jumlah data val: 89\n",
      "Jumlah data test: 90\n",
      "=========\n",
      "Jumlah label data asli:\n",
      "0    549\n",
      "1    342\n",
      "Name: Survived, dtype: int64\n",
      "Jumlah label data train:\n",
      "0    439\n",
      "1    273\n",
      "Name: Survived, dtype: int64\n",
      "Jumlah label data val:\n",
      "0    53\n",
      "1    36\n",
      "Name: Survived, dtype: int64\n",
      "Jumlah label data test:\n",
      "0    57\n",
      "1    33\n",
      "Name: Survived, dtype: int64\n"
     ]
    }
   ],
   "source": [
    "print(f'Jumlah data asli: {df.shape[0]}')\n",
    "print(f'Jumlah data train: {df_train.shape[0]}')\n",
    "print(f'Jumlah data val: {df_val.shape[0]}')\n",
    "print(f'Jumlah data test: {df_test.shape[0]}')\n",
    "\n",
    "print('=========')\n",
    "print(f'Jumlah label data asli:\\n{df.Survived.value_counts()}')\n",
    "print(f'Jumlah label data train:\\n{df_train.Survived.value_counts()}')\n",
    "print(f'Jumlah label data val:\\n{df_val.Survived.value_counts()}')\n",
    "print(f'Jumlah label data test:\\n{df_test.Survived.value_counts()}')"
   ],
   "metadata": {
    "collapsed": false,
    "ExecuteTime": {
     "end_time": "2023-09-06T02:46:16.345356600Z",
     "start_time": "2023-09-06T02:46:16.289631700Z"
    }
   },
   "id": "d29e958f6030514d"
  },
  {
   "cell_type": "markdown",
   "source": [
    "### Stratified Split"
   ],
   "metadata": {
    "collapsed": false
   },
   "id": "47094806b9eda4c5"
  },
  {
   "cell_type": "code",
   "execution_count": 136,
   "outputs": [
    {
     "data": {
      "text/plain": "   Survived  Pclass  Sex       Age  Cabin\n0         0       3    1 -0.592481    115\n1         1       1    0  0.638789     81\n2         1       3    0 -0.284663    115\n3         1       1    0  0.407926     55\n4         0       3    1  0.407926    115",
      "text/html": "<div>\n<style scoped>\n    .dataframe tbody tr th:only-of-type {\n        vertical-align: middle;\n    }\n\n    .dataframe tbody tr th {\n        vertical-align: top;\n    }\n\n    .dataframe thead th {\n        text-align: right;\n    }\n</style>\n<table border=\"1\" class=\"dataframe\">\n  <thead>\n    <tr style=\"text-align: right;\">\n      <th></th>\n      <th>Survived</th>\n      <th>Pclass</th>\n      <th>Sex</th>\n      <th>Age</th>\n      <th>Cabin</th>\n    </tr>\n  </thead>\n  <tbody>\n    <tr>\n      <th>0</th>\n      <td>0</td>\n      <td>3</td>\n      <td>1</td>\n      <td>-0.592481</td>\n      <td>115</td>\n    </tr>\n    <tr>\n      <th>1</th>\n      <td>1</td>\n      <td>1</td>\n      <td>0</td>\n      <td>0.638789</td>\n      <td>81</td>\n    </tr>\n    <tr>\n      <th>2</th>\n      <td>1</td>\n      <td>3</td>\n      <td>0</td>\n      <td>-0.284663</td>\n      <td>115</td>\n    </tr>\n    <tr>\n      <th>3</th>\n      <td>1</td>\n      <td>1</td>\n      <td>0</td>\n      <td>0.407926</td>\n      <td>55</td>\n    </tr>\n    <tr>\n      <th>4</th>\n      <td>0</td>\n      <td>3</td>\n      <td>1</td>\n      <td>0.407926</td>\n      <td>115</td>\n    </tr>\n  </tbody>\n</table>\n</div>"
     },
     "execution_count": 136,
     "metadata": {},
     "output_type": "execute_result"
    }
   ],
   "source": [
    "df_st = df_sliced.copy()\n",
    "df_st.head()"
   ],
   "metadata": {
    "collapsed": false,
    "ExecuteTime": {
     "end_time": "2023-09-06T02:53:22.787611500Z",
     "start_time": "2023-09-06T02:53:22.768339900Z"
    }
   },
   "id": "91bd07473dc39566"
  },
  {
   "cell_type": "code",
   "execution_count": 137,
   "outputs": [],
   "source": [
    "df_st_train, df_st_unseen = train_test_split(df_st, test_size=0.2, random_state=0, stratify=df_st['Survived'])\n",
    "df_st_val, df_st_test = train_test_split(df_st_unseen, test_size=0.2, random_state=0, stratify=df_st_unseen['Survived'])"
   ],
   "metadata": {
    "collapsed": false,
    "ExecuteTime": {
     "end_time": "2023-09-06T02:53:26.925035300Z",
     "start_time": "2023-09-06T02:53:26.907229900Z"
    }
   },
   "id": "b616830f15a28281"
  },
  {
   "cell_type": "code",
   "execution_count": 139,
   "outputs": [
    {
     "name": "stdout",
     "output_type": "stream",
     "text": [
      "Jumlah label data asli:\n",
      "0    439\n",
      "1    273\n",
      "Name: Survived, dtype: int64\n",
      "Jumlah label data train:\n",
      "0    110\n",
      "1     69\n",
      "Name: Survived, dtype: int64\n",
      "Jumlah label data val:\n",
      "0    88\n",
      "1    55\n",
      "Name: Survived, dtype: int64\n",
      "Jumlah label data test:\n",
      "0    22\n",
      "1    14\n",
      "Name: Survived, dtype: int64\n"
     ]
    }
   ],
   "source": [
    "print(f'Jumlah label data asli:\\n{df_st_train.Survived.value_counts()}')\n",
    "print(f'Jumlah label data train:\\n{df_st_unseen.Survived.value_counts()}')\n",
    "print(f'Jumlah label data val:\\n{df_st_val.Survived.value_counts()}')\n",
    "print(f'Jumlah label data test:\\n{df_st_test.Survived.value_counts()}')"
   ],
   "metadata": {
    "collapsed": false,
    "ExecuteTime": {
     "end_time": "2023-09-06T02:53:45.921121400Z",
     "start_time": "2023-09-06T02:53:45.906071Z"
    }
   },
   "id": "f9d26b202559c553"
  },
  {
   "cell_type": "code",
   "execution_count": 140,
   "outputs": [
    {
     "data": {
      "text/plain": "   Survived  Pclass  Sex       Age  Cabin\n0         0       3    1 -0.592481    115\n1         1       1    0  0.638789     81\n2         1       3    0 -0.284663    115\n3         1       1    0  0.407926     55\n4         0       3    1  0.407926    115",
      "text/html": "<div>\n<style scoped>\n    .dataframe tbody tr th:only-of-type {\n        vertical-align: middle;\n    }\n\n    .dataframe tbody tr th {\n        vertical-align: top;\n    }\n\n    .dataframe thead th {\n        text-align: right;\n    }\n</style>\n<table border=\"1\" class=\"dataframe\">\n  <thead>\n    <tr style=\"text-align: right;\">\n      <th></th>\n      <th>Survived</th>\n      <th>Pclass</th>\n      <th>Sex</th>\n      <th>Age</th>\n      <th>Cabin</th>\n    </tr>\n  </thead>\n  <tbody>\n    <tr>\n      <th>0</th>\n      <td>0</td>\n      <td>3</td>\n      <td>1</td>\n      <td>-0.592481</td>\n      <td>115</td>\n    </tr>\n    <tr>\n      <th>1</th>\n      <td>1</td>\n      <td>1</td>\n      <td>0</td>\n      <td>0.638789</td>\n      <td>81</td>\n    </tr>\n    <tr>\n      <th>2</th>\n      <td>1</td>\n      <td>3</td>\n      <td>0</td>\n      <td>-0.284663</td>\n      <td>115</td>\n    </tr>\n    <tr>\n      <th>3</th>\n      <td>1</td>\n      <td>1</td>\n      <td>0</td>\n      <td>0.407926</td>\n      <td>55</td>\n    </tr>\n    <tr>\n      <th>4</th>\n      <td>0</td>\n      <td>3</td>\n      <td>1</td>\n      <td>0.407926</td>\n      <td>115</td>\n    </tr>\n  </tbody>\n</table>\n</div>"
     },
     "execution_count": 140,
     "metadata": {},
     "output_type": "execute_result"
    }
   ],
   "source": [
    "df_split = df_sliced.copy()\n",
    "df_split.head()"
   ],
   "metadata": {
    "collapsed": false,
    "ExecuteTime": {
     "end_time": "2023-09-06T02:56:50.985930300Z",
     "start_time": "2023-09-06T02:56:50.962154500Z"
    }
   },
   "id": "732810291974ccb0"
  },
  {
   "cell_type": "code",
   "execution_count": 141,
   "outputs": [
    {
     "name": "stdout",
     "output_type": "stream",
     "text": [
      "Jumlah fold: 4\n",
      "Obyek KFold: KFold(n_splits=4, random_state=None, shuffle=False)\n"
     ]
    }
   ],
   "source": [
    "from sklearn.model_selection import KFold\n",
    "kf = KFold(n_splits=4)\n",
    "print(f'Jumlah fold: {kf.get_n_splits()}')\n",
    "print(f'Obyek KFold: {kf}')"
   ],
   "metadata": {
    "collapsed": false,
    "ExecuteTime": {
     "end_time": "2023-09-06T02:57:29.878522700Z",
     "start_time": "2023-09-06T02:57:29.808460800Z"
    }
   },
   "id": "9693e0ad98f0b0f2"
  },
  {
   "cell_type": "code",
   "execution_count": 143,
   "outputs": [
    {
     "name": "stdout",
     "output_type": "stream",
     "text": [
      "Jumlah data df: 891\n",
      "Index train: [223 224 225 226 227 228 229 230 231 232 233 234 235 236 237 238 239 240\n",
      " 241 242 243 244 245 246 247 248 249 250 251 252 253 254 255 256 257 258\n",
      " 259 260 261 262 263 264 265 266 267 268 269 270 271 272 273 274 275 276\n",
      " 277 278 279 280 281 282 283 284 285 286 287 288 289 290 291 292 293 294\n",
      " 295 296 297 298 299 300 301 302 303 304 305 306 307 308 309 310 311 312\n",
      " 313 314 315 316 317 318 319 320 321 322 323 324 325 326 327 328 329 330\n",
      " 331 332 333 334 335 336 337 338 339 340 341 342 343 344 345 346 347 348\n",
      " 349 350 351 352 353 354 355 356 357 358 359 360 361 362 363 364 365 366\n",
      " 367 368 369 370 371 372 373 374 375 376 377 378 379 380 381 382 383 384\n",
      " 385 386 387 388 389 390 391 392 393 394 395 396 397 398 399 400 401 402\n",
      " 403 404 405 406 407 408 409 410 411 412 413 414 415 416 417 418 419 420\n",
      " 421 422 423 424 425 426 427 428 429 430 431 432 433 434 435 436 437 438\n",
      " 439 440 441 442 443 444 445 446 447 448 449 450 451 452 453 454 455 456\n",
      " 457 458 459 460 461 462 463 464 465 466 467 468 469 470 471 472 473 474\n",
      " 475 476 477 478 479 480 481 482 483 484 485 486 487 488 489 490 491 492\n",
      " 493 494 495 496 497 498 499 500 501 502 503 504 505 506 507 508 509 510\n",
      " 511 512 513 514 515 516 517 518 519 520 521 522 523 524 525 526 527 528\n",
      " 529 530 531 532 533 534 535 536 537 538 539 540 541 542 543 544 545 546\n",
      " 547 548 549 550 551 552 553 554 555 556 557 558 559 560 561 562 563 564\n",
      " 565 566 567 568 569 570 571 572 573 574 575 576 577 578 579 580 581 582\n",
      " 583 584 585 586 587 588 589 590 591 592 593 594 595 596 597 598 599 600\n",
      " 601 602 603 604 605 606 607 608 609 610 611 612 613 614 615 616 617 618\n",
      " 619 620 621 622 623 624 625 626 627 628 629 630 631 632 633 634 635 636\n",
      " 637 638 639 640 641 642 643 644 645 646 647 648 649 650 651 652 653 654\n",
      " 655 656 657 658 659 660 661 662 663 664 665 666 667 668 669 670 671 672\n",
      " 673 674 675 676 677 678 679 680 681 682 683 684 685 686 687 688 689 690\n",
      " 691 692 693 694 695 696 697 698 699 700 701 702 703 704 705 706 707 708\n",
      " 709 710 711 712 713 714 715 716 717 718 719 720 721 722 723 724 725 726\n",
      " 727 728 729 730 731 732 733 734 735 736 737 738 739 740 741 742 743 744\n",
      " 745 746 747 748 749 750 751 752 753 754 755 756 757 758 759 760 761 762\n",
      " 763 764 765 766 767 768 769 770 771 772 773 774 775 776 777 778 779 780\n",
      " 781 782 783 784 785 786 787 788 789 790 791 792 793 794 795 796 797 798\n",
      " 799 800 801 802 803 804 805 806 807 808 809 810 811 812 813 814 815 816\n",
      " 817 818 819 820 821 822 823 824 825 826 827 828 829 830 831 832 833 834\n",
      " 835 836 837 838 839 840 841 842 843 844 845 846 847 848 849 850 851 852\n",
      " 853 854 855 856 857 858 859 860 861 862 863 864 865 866 867 868 869 870\n",
      " 871 872 873 874 875 876 877 878 879 880 881 882 883 884 885 886 887 888\n",
      " 889 890] | Index test: [  0   1   2   3   4   5   6   7   8   9  10  11  12  13  14  15  16  17\n",
      "  18  19  20  21  22  23  24  25  26  27  28  29  30  31  32  33  34  35\n",
      "  36  37  38  39  40  41  42  43  44  45  46  47  48  49  50  51  52  53\n",
      "  54  55  56  57  58  59  60  61  62  63  64  65  66  67  68  69  70  71\n",
      "  72  73  74  75  76  77  78  79  80  81  82  83  84  85  86  87  88  89\n",
      "  90  91  92  93  94  95  96  97  98  99 100 101 102 103 104 105 106 107\n",
      " 108 109 110 111 112 113 114 115 116 117 118 119 120 121 122 123 124 125\n",
      " 126 127 128 129 130 131 132 133 134 135 136 137 138 139 140 141 142 143\n",
      " 144 145 146 147 148 149 150 151 152 153 154 155 156 157 158 159 160 161\n",
      " 162 163 164 165 166 167 168 169 170 171 172 173 174 175 176 177 178 179\n",
      " 180 181 182 183 184 185 186 187 188 189 190 191 192 193 194 195 196 197\n",
      " 198 199 200 201 202 203 204 205 206 207 208 209 210 211 212 213 214 215\n",
      " 216 217 218 219 220 221 222]\n",
      "Index train: [  0   1   2   3   4   5   6   7   8   9  10  11  12  13  14  15  16  17\n",
      "  18  19  20  21  22  23  24  25  26  27  28  29  30  31  32  33  34  35\n",
      "  36  37  38  39  40  41  42  43  44  45  46  47  48  49  50  51  52  53\n",
      "  54  55  56  57  58  59  60  61  62  63  64  65  66  67  68  69  70  71\n",
      "  72  73  74  75  76  77  78  79  80  81  82  83  84  85  86  87  88  89\n",
      "  90  91  92  93  94  95  96  97  98  99 100 101 102 103 104 105 106 107\n",
      " 108 109 110 111 112 113 114 115 116 117 118 119 120 121 122 123 124 125\n",
      " 126 127 128 129 130 131 132 133 134 135 136 137 138 139 140 141 142 143\n",
      " 144 145 146 147 148 149 150 151 152 153 154 155 156 157 158 159 160 161\n",
      " 162 163 164 165 166 167 168 169 170 171 172 173 174 175 176 177 178 179\n",
      " 180 181 182 183 184 185 186 187 188 189 190 191 192 193 194 195 196 197\n",
      " 198 199 200 201 202 203 204 205 206 207 208 209 210 211 212 213 214 215\n",
      " 216 217 218 219 220 221 222 446 447 448 449 450 451 452 453 454 455 456\n",
      " 457 458 459 460 461 462 463 464 465 466 467 468 469 470 471 472 473 474\n",
      " 475 476 477 478 479 480 481 482 483 484 485 486 487 488 489 490 491 492\n",
      " 493 494 495 496 497 498 499 500 501 502 503 504 505 506 507 508 509 510\n",
      " 511 512 513 514 515 516 517 518 519 520 521 522 523 524 525 526 527 528\n",
      " 529 530 531 532 533 534 535 536 537 538 539 540 541 542 543 544 545 546\n",
      " 547 548 549 550 551 552 553 554 555 556 557 558 559 560 561 562 563 564\n",
      " 565 566 567 568 569 570 571 572 573 574 575 576 577 578 579 580 581 582\n",
      " 583 584 585 586 587 588 589 590 591 592 593 594 595 596 597 598 599 600\n",
      " 601 602 603 604 605 606 607 608 609 610 611 612 613 614 615 616 617 618\n",
      " 619 620 621 622 623 624 625 626 627 628 629 630 631 632 633 634 635 636\n",
      " 637 638 639 640 641 642 643 644 645 646 647 648 649 650 651 652 653 654\n",
      " 655 656 657 658 659 660 661 662 663 664 665 666 667 668 669 670 671 672\n",
      " 673 674 675 676 677 678 679 680 681 682 683 684 685 686 687 688 689 690\n",
      " 691 692 693 694 695 696 697 698 699 700 701 702 703 704 705 706 707 708\n",
      " 709 710 711 712 713 714 715 716 717 718 719 720 721 722 723 724 725 726\n",
      " 727 728 729 730 731 732 733 734 735 736 737 738 739 740 741 742 743 744\n",
      " 745 746 747 748 749 750 751 752 753 754 755 756 757 758 759 760 761 762\n",
      " 763 764 765 766 767 768 769 770 771 772 773 774 775 776 777 778 779 780\n",
      " 781 782 783 784 785 786 787 788 789 790 791 792 793 794 795 796 797 798\n",
      " 799 800 801 802 803 804 805 806 807 808 809 810 811 812 813 814 815 816\n",
      " 817 818 819 820 821 822 823 824 825 826 827 828 829 830 831 832 833 834\n",
      " 835 836 837 838 839 840 841 842 843 844 845 846 847 848 849 850 851 852\n",
      " 853 854 855 856 857 858 859 860 861 862 863 864 865 866 867 868 869 870\n",
      " 871 872 873 874 875 876 877 878 879 880 881 882 883 884 885 886 887 888\n",
      " 889 890] | Index test: [223 224 225 226 227 228 229 230 231 232 233 234 235 236 237 238 239 240\n",
      " 241 242 243 244 245 246 247 248 249 250 251 252 253 254 255 256 257 258\n",
      " 259 260 261 262 263 264 265 266 267 268 269 270 271 272 273 274 275 276\n",
      " 277 278 279 280 281 282 283 284 285 286 287 288 289 290 291 292 293 294\n",
      " 295 296 297 298 299 300 301 302 303 304 305 306 307 308 309 310 311 312\n",
      " 313 314 315 316 317 318 319 320 321 322 323 324 325 326 327 328 329 330\n",
      " 331 332 333 334 335 336 337 338 339 340 341 342 343 344 345 346 347 348\n",
      " 349 350 351 352 353 354 355 356 357 358 359 360 361 362 363 364 365 366\n",
      " 367 368 369 370 371 372 373 374 375 376 377 378 379 380 381 382 383 384\n",
      " 385 386 387 388 389 390 391 392 393 394 395 396 397 398 399 400 401 402\n",
      " 403 404 405 406 407 408 409 410 411 412 413 414 415 416 417 418 419 420\n",
      " 421 422 423 424 425 426 427 428 429 430 431 432 433 434 435 436 437 438\n",
      " 439 440 441 442 443 444 445]\n",
      "Index train: [  0   1   2   3   4   5   6   7   8   9  10  11  12  13  14  15  16  17\n",
      "  18  19  20  21  22  23  24  25  26  27  28  29  30  31  32  33  34  35\n",
      "  36  37  38  39  40  41  42  43  44  45  46  47  48  49  50  51  52  53\n",
      "  54  55  56  57  58  59  60  61  62  63  64  65  66  67  68  69  70  71\n",
      "  72  73  74  75  76  77  78  79  80  81  82  83  84  85  86  87  88  89\n",
      "  90  91  92  93  94  95  96  97  98  99 100 101 102 103 104 105 106 107\n",
      " 108 109 110 111 112 113 114 115 116 117 118 119 120 121 122 123 124 125\n",
      " 126 127 128 129 130 131 132 133 134 135 136 137 138 139 140 141 142 143\n",
      " 144 145 146 147 148 149 150 151 152 153 154 155 156 157 158 159 160 161\n",
      " 162 163 164 165 166 167 168 169 170 171 172 173 174 175 176 177 178 179\n",
      " 180 181 182 183 184 185 186 187 188 189 190 191 192 193 194 195 196 197\n",
      " 198 199 200 201 202 203 204 205 206 207 208 209 210 211 212 213 214 215\n",
      " 216 217 218 219 220 221 222 223 224 225 226 227 228 229 230 231 232 233\n",
      " 234 235 236 237 238 239 240 241 242 243 244 245 246 247 248 249 250 251\n",
      " 252 253 254 255 256 257 258 259 260 261 262 263 264 265 266 267 268 269\n",
      " 270 271 272 273 274 275 276 277 278 279 280 281 282 283 284 285 286 287\n",
      " 288 289 290 291 292 293 294 295 296 297 298 299 300 301 302 303 304 305\n",
      " 306 307 308 309 310 311 312 313 314 315 316 317 318 319 320 321 322 323\n",
      " 324 325 326 327 328 329 330 331 332 333 334 335 336 337 338 339 340 341\n",
      " 342 343 344 345 346 347 348 349 350 351 352 353 354 355 356 357 358 359\n",
      " 360 361 362 363 364 365 366 367 368 369 370 371 372 373 374 375 376 377\n",
      " 378 379 380 381 382 383 384 385 386 387 388 389 390 391 392 393 394 395\n",
      " 396 397 398 399 400 401 402 403 404 405 406 407 408 409 410 411 412 413\n",
      " 414 415 416 417 418 419 420 421 422 423 424 425 426 427 428 429 430 431\n",
      " 432 433 434 435 436 437 438 439 440 441 442 443 444 445 669 670 671 672\n",
      " 673 674 675 676 677 678 679 680 681 682 683 684 685 686 687 688 689 690\n",
      " 691 692 693 694 695 696 697 698 699 700 701 702 703 704 705 706 707 708\n",
      " 709 710 711 712 713 714 715 716 717 718 719 720 721 722 723 724 725 726\n",
      " 727 728 729 730 731 732 733 734 735 736 737 738 739 740 741 742 743 744\n",
      " 745 746 747 748 749 750 751 752 753 754 755 756 757 758 759 760 761 762\n",
      " 763 764 765 766 767 768 769 770 771 772 773 774 775 776 777 778 779 780\n",
      " 781 782 783 784 785 786 787 788 789 790 791 792 793 794 795 796 797 798\n",
      " 799 800 801 802 803 804 805 806 807 808 809 810 811 812 813 814 815 816\n",
      " 817 818 819 820 821 822 823 824 825 826 827 828 829 830 831 832 833 834\n",
      " 835 836 837 838 839 840 841 842 843 844 845 846 847 848 849 850 851 852\n",
      " 853 854 855 856 857 858 859 860 861 862 863 864 865 866 867 868 869 870\n",
      " 871 872 873 874 875 876 877 878 879 880 881 882 883 884 885 886 887 888\n",
      " 889 890] | Index test: [446 447 448 449 450 451 452 453 454 455 456 457 458 459 460 461 462 463\n",
      " 464 465 466 467 468 469 470 471 472 473 474 475 476 477 478 479 480 481\n",
      " 482 483 484 485 486 487 488 489 490 491 492 493 494 495 496 497 498 499\n",
      " 500 501 502 503 504 505 506 507 508 509 510 511 512 513 514 515 516 517\n",
      " 518 519 520 521 522 523 524 525 526 527 528 529 530 531 532 533 534 535\n",
      " 536 537 538 539 540 541 542 543 544 545 546 547 548 549 550 551 552 553\n",
      " 554 555 556 557 558 559 560 561 562 563 564 565 566 567 568 569 570 571\n",
      " 572 573 574 575 576 577 578 579 580 581 582 583 584 585 586 587 588 589\n",
      " 590 591 592 593 594 595 596 597 598 599 600 601 602 603 604 605 606 607\n",
      " 608 609 610 611 612 613 614 615 616 617 618 619 620 621 622 623 624 625\n",
      " 626 627 628 629 630 631 632 633 634 635 636 637 638 639 640 641 642 643\n",
      " 644 645 646 647 648 649 650 651 652 653 654 655 656 657 658 659 660 661\n",
      " 662 663 664 665 666 667 668]\n",
      "Index train: [  0   1   2   3   4   5   6   7   8   9  10  11  12  13  14  15  16  17\n",
      "  18  19  20  21  22  23  24  25  26  27  28  29  30  31  32  33  34  35\n",
      "  36  37  38  39  40  41  42  43  44  45  46  47  48  49  50  51  52  53\n",
      "  54  55  56  57  58  59  60  61  62  63  64  65  66  67  68  69  70  71\n",
      "  72  73  74  75  76  77  78  79  80  81  82  83  84  85  86  87  88  89\n",
      "  90  91  92  93  94  95  96  97  98  99 100 101 102 103 104 105 106 107\n",
      " 108 109 110 111 112 113 114 115 116 117 118 119 120 121 122 123 124 125\n",
      " 126 127 128 129 130 131 132 133 134 135 136 137 138 139 140 141 142 143\n",
      " 144 145 146 147 148 149 150 151 152 153 154 155 156 157 158 159 160 161\n",
      " 162 163 164 165 166 167 168 169 170 171 172 173 174 175 176 177 178 179\n",
      " 180 181 182 183 184 185 186 187 188 189 190 191 192 193 194 195 196 197\n",
      " 198 199 200 201 202 203 204 205 206 207 208 209 210 211 212 213 214 215\n",
      " 216 217 218 219 220 221 222 223 224 225 226 227 228 229 230 231 232 233\n",
      " 234 235 236 237 238 239 240 241 242 243 244 245 246 247 248 249 250 251\n",
      " 252 253 254 255 256 257 258 259 260 261 262 263 264 265 266 267 268 269\n",
      " 270 271 272 273 274 275 276 277 278 279 280 281 282 283 284 285 286 287\n",
      " 288 289 290 291 292 293 294 295 296 297 298 299 300 301 302 303 304 305\n",
      " 306 307 308 309 310 311 312 313 314 315 316 317 318 319 320 321 322 323\n",
      " 324 325 326 327 328 329 330 331 332 333 334 335 336 337 338 339 340 341\n",
      " 342 343 344 345 346 347 348 349 350 351 352 353 354 355 356 357 358 359\n",
      " 360 361 362 363 364 365 366 367 368 369 370 371 372 373 374 375 376 377\n",
      " 378 379 380 381 382 383 384 385 386 387 388 389 390 391 392 393 394 395\n",
      " 396 397 398 399 400 401 402 403 404 405 406 407 408 409 410 411 412 413\n",
      " 414 415 416 417 418 419 420 421 422 423 424 425 426 427 428 429 430 431\n",
      " 432 433 434 435 436 437 438 439 440 441 442 443 444 445 446 447 448 449\n",
      " 450 451 452 453 454 455 456 457 458 459 460 461 462 463 464 465 466 467\n",
      " 468 469 470 471 472 473 474 475 476 477 478 479 480 481 482 483 484 485\n",
      " 486 487 488 489 490 491 492 493 494 495 496 497 498 499 500 501 502 503\n",
      " 504 505 506 507 508 509 510 511 512 513 514 515 516 517 518 519 520 521\n",
      " 522 523 524 525 526 527 528 529 530 531 532 533 534 535 536 537 538 539\n",
      " 540 541 542 543 544 545 546 547 548 549 550 551 552 553 554 555 556 557\n",
      " 558 559 560 561 562 563 564 565 566 567 568 569 570 571 572 573 574 575\n",
      " 576 577 578 579 580 581 582 583 584 585 586 587 588 589 590 591 592 593\n",
      " 594 595 596 597 598 599 600 601 602 603 604 605 606 607 608 609 610 611\n",
      " 612 613 614 615 616 617 618 619 620 621 622 623 624 625 626 627 628 629\n",
      " 630 631 632 633 634 635 636 637 638 639 640 641 642 643 644 645 646 647\n",
      " 648 649 650 651 652 653 654 655 656 657 658 659 660 661 662 663 664 665\n",
      " 666 667 668] | Index test: [669 670 671 672 673 674 675 676 677 678 679 680 681 682 683 684 685 686\n",
      " 687 688 689 690 691 692 693 694 695 696 697 698 699 700 701 702 703 704\n",
      " 705 706 707 708 709 710 711 712 713 714 715 716 717 718 719 720 721 722\n",
      " 723 724 725 726 727 728 729 730 731 732 733 734 735 736 737 738 739 740\n",
      " 741 742 743 744 745 746 747 748 749 750 751 752 753 754 755 756 757 758\n",
      " 759 760 761 762 763 764 765 766 767 768 769 770 771 772 773 774 775 776\n",
      " 777 778 779 780 781 782 783 784 785 786 787 788 789 790 791 792 793 794\n",
      " 795 796 797 798 799 800 801 802 803 804 805 806 807 808 809 810 811 812\n",
      " 813 814 815 816 817 818 819 820 821 822 823 824 825 826 827 828 829 830\n",
      " 831 832 833 834 835 836 837 838 839 840 841 842 843 844 845 846 847 848\n",
      " 849 850 851 852 853 854 855 856 857 858 859 860 861 862 863 864 865 866\n",
      " 867 868 869 870 871 872 873 874 875 876 877 878 879 880 881 882 883 884\n",
      " 885 886 887 888 889 890]\n"
     ]
    }
   ],
   "source": [
    "kf_split = kf.split(df_split)\n",
    "print(f'Jumlah data df: {df_split.shape[0]}')\n",
    "for train_index, test_index in kf_split:\n",
    "    print(f'Index train: {train_index} | Index test: {test_index}')"
   ],
   "metadata": {
    "collapsed": false,
    "ExecuteTime": {
     "end_time": "2023-09-06T02:59:33.617047300Z",
     "start_time": "2023-09-06T02:59:33.604001300Z"
    }
   },
   "id": "e4918cabdc13981b"
  },
  {
   "cell_type": "markdown",
   "source": [
    "# Praktikum 4"
   ],
   "metadata": {
    "collapsed": false
   },
   "id": "80f2ce14aa20b6e0"
  },
  {
   "cell_type": "code",
   "execution_count": 144,
   "outputs": [],
   "source": [
    "from PIL import Image\n",
    "\n",
    "img = Image.open('dataset/Lenna_(test_image).png')\n",
    "img.show()"
   ],
   "metadata": {
    "collapsed": false,
    "ExecuteTime": {
     "end_time": "2023-09-06T03:00:47.919776200Z",
     "start_time": "2023-09-06T03:00:43.887104100Z"
    }
   },
   "id": "8db8a6ec70df73e7"
  },
  {
   "cell_type": "code",
   "execution_count": 145,
   "outputs": [
    {
     "name": "stdout",
     "output_type": "stream",
     "text": [
      "256\n",
      "[0, 0, 0, 0, 0, 0, 0, 0, 0, 0, 0, 0, 0, 0, 0, 0, 0, 0, 0, 0, 0, 0, 0, 0, 0, 0, 0, 0, 0, 0, 0, 0, 0, 0, 0, 0, 0, 0, 0, 0, 0, 0, 0, 0, 0, 0, 0, 0, 0, 0, 0, 0, 0, 0, 1, 0, 1, 1, 1, 8, 6, 10, 9, 20, 37, 32, 41, 53, 74, 103, 132, 179, 193, 242, 238, 336, 386, 404, 483, 607, 628, 771, 785, 1001, 1016, 1177, 1269, 1332, 1446, 1487, 1457, 1574, 1585, 1591, 1557, 1569, 1660, 1648, 1420, 1559, 1418, 1384, 1319, 1342, 1156, 1120, 955, 969, 828, 782, 752, 737, 719, 700, 628, 673, 587, 617, 610, 592, 557, 593, 552, 566, 582, 559, 571, 520, 664, 650, 618, 730, 594, 667, 675, 685, 771, 715, 667, 740, 744, 766, 765, 772, 817, 817, 744, 806, 760, 777, 812, 797, 799, 861, 814, 910, 907, 918, 888, 1011, 879, 996, 912, 952, 884, 1074, 977, 1073, 1040, 1216, 1250, 1403, 1534, 1639, 1682, 1776, 1874, 1769, 1582, 1743, 1441, 1477, 1483, 1409, 1437, 1449, 1389, 1479, 1592, 1655, 1657, 1666, 1857, 1896, 1813, 1979, 1814, 1956, 1928, 2055, 2012, 2303, 2333, 2670, 2787, 3232, 3154, 3476, 3424, 3516, 3102, 3176, 2787, 2885, 2630, 2731, 2664, 2955, 2955, 3360, 3554, 4138, 3987, 4057, 4327, 3713, 3185, 2929, 2551, 2432, 2195, 2256, 1960, 2126, 2186, 2265, 2417, 2445, 2282, 1826, 1972, 1456, 1137, 986, 748, 749, 667, 582, 428, 357, 313, 302, 242, 178, 67, 112]\n"
     ]
    }
   ],
   "source": [
    "r, g, b = img.split()\n",
    "print(len(r.histogram()))\n",
    "print(r.histogram())"
   ],
   "metadata": {
    "collapsed": false,
    "ExecuteTime": {
     "end_time": "2023-09-06T03:01:06.287670300Z",
     "start_time": "2023-09-06T03:01:06.249758500Z"
    }
   },
   "id": "f87affbc064c950f"
  }
 ],
 "metadata": {
  "kernelspec": {
   "display_name": "Python 3",
   "language": "python",
   "name": "python3"
  },
  "language_info": {
   "codemirror_mode": {
    "name": "ipython",
    "version": 2
   },
   "file_extension": ".py",
   "mimetype": "text/x-python",
   "name": "python",
   "nbconvert_exporter": "python",
   "pygments_lexer": "ipython2",
   "version": "2.7.6"
  }
 },
 "nbformat": 4,
 "nbformat_minor": 5
}
