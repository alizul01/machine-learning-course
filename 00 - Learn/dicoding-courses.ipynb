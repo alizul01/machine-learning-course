{
 "cells": [
  {
   "cell_type": "code",
   "execution_count": 2,
   "id": "initial_id",
   "metadata": {
    "collapsed": true,
    "ExecuteTime": {
     "end_time": "2023-09-21T09:35:29.562933300Z",
     "start_time": "2023-09-21T09:35:29.560412100Z"
    }
   },
   "outputs": [
    {
     "name": "stdout",
     "output_type": "stream",
     "text": [
      "[0, 2, 4, 6, 8, 10, 12, 14, 16, 18, 20, 22, 24, 26, 28, 30, 32, 34, 36, 38, 40, 42, 44, 46, 48, 50, 52, 54, 56, 58, 60, 62, 64, 66, 68, 70, 72, 74, 76, 78, 80, 82, 84, 86, 88, 90, 92, 94, 96, 98, 100, 102, 104, 106, 108, 110, 112, 114, 116, 118, 120, 122, 124, 126, 128, 130, 132, 134, 136, 138, 140, 142, 144, 146, 148, 150, 152, 154, 156, 158, 160, 162, 164, 166, 168, 170, 172, 174, 176, 178, 180, 182, 184, 186, 188, 190, 192, 194, 196, 198, 200, 202, 204, 206, 208, 210, 212, 214, 216, 218, 220, 222, 224, 226, 228, 230, 232, 234, 236, 238, 240, 242, 244, 246, 248, 250, 252, 254, 256, 258, 260, 262, 264, 266, 268, 270, 272, 274, 276, 278, 280, 282, 284, 286, 288, 290, 292, 294, 296, 298, 300, 302, 304, 306, 308, 310, 312, 314, 316, 318, 320, 322, 324, 326, 328, 330, 332, 334, 336, 338, 340, 342, 344, 346, 348, 350, 352, 354, 356, 358, 360, 362, 364, 366, 368, 370, 372, 374, 376, 378, 380, 382, 384, 386, 388, 390, 392, 394, 396, 398, 400, 402, 404, 406, 408, 410, 412, 414, 416, 418, 420, 422, 424, 426, 428, 430, 432, 434, 436, 438, 440, 442, 444, 446, 448, 450, 452, 454, 456, 458, 460, 462, 464, 466, 468, 470, 472, 474, 476, 478, 480, 482, 484, 486, 488, 490, 492, 494, 496, 498, 500]\n"
     ]
    }
   ],
   "source": [
    "\"\"\"\n",
    "TODO:\n",
    "Buatlah sebuah variabel bertipe list bernama \"evenNumber\" dengan ketentuan:\n",
    "- variabel tersebut menampung bilangan genap dari 0 hingga 500 (ingat 0 dan 500 termasuk).\n",
    "\n",
    "Tips:\n",
    "Anda bisa menggunakan loop dan if atau list comprehension untuk memudahkan.\n",
    "\"\"\"\n",
    "\n",
    "# TODO: Silakan buat kode Anda di bawah ini.\n",
    "\n",
    "evenNumber = [x for x in range(0, 501, 2)]\n",
    "print(evenNumber)"
   ]
  },
  {
   "cell_type": "code",
   "execution_count": null,
   "outputs": [],
   "source": [
    "\"\"\"\n",
    "TODO:\n",
    "Sebuah variabel array diberikan dengan ketentuan berikut.\n",
    "- Variabel array bernama \"var_array\" dengan nilai dari 0 hingga 100.\n",
    "- Hitung nilai rata-rata dari elemen array tersebut.\n",
    "- Simpan hasil perhitungan dalam variabel bernama \"result\".\n",
    "\n",
    "Tips:\n",
    "- Rumus menghitung rata-rata adalah jumlah seluruh elemen dibagi banyaknya elemen.\n",
    "- Gunakan percabangan dan perulangan untuk mempermudah, \n",
    "  Anda tidak diperbolehkan memberikan nilai secara langsung.\n",
    "\"\"\"\n",
    "# Jangan ubah kode ini\n",
    "var_array = [i for i in range(101)]\n",
    "\n",
    "# TODO: Silakan buat kode Anda di bawah ini.\n",
    "total = 0\n",
    "for num in var_array:\n",
    "    total += num\n",
    "\n",
    "result = total / len(var_array)"
   ],
   "metadata": {
    "collapsed": false
   },
   "id": "206efc17f05bff7a"
  },
  {
   "cell_type": "code",
   "execution_count": 5,
   "outputs": [
    {
     "name": "stdout",
     "output_type": "stream",
     "text": [
      "1 1\n",
      "1 2\n",
      "2 1\n",
      "2 2\n"
     ]
    }
   ],
   "source": [
    "for i in range(1, 3):    \n",
    "    for j in range(1, 3):    \n",
    "        print(i,j) "
   ],
   "metadata": {
    "collapsed": false,
    "ExecuteTime": {
     "end_time": "2023-09-21T09:57:03.070119800Z",
     "start_time": "2023-09-21T09:57:03.069612700Z"
    }
   },
   "id": "9c6268c16736caab"
  },
  {
   "cell_type": "code",
   "execution_count": 6,
   "outputs": [
    {
     "data": {
      "text/plain": "2"
     },
     "execution_count": 6,
     "metadata": {},
     "output_type": "execute_result"
    }
   ],
   "source": [
    "# TODO: Silakan buat kode Anda di bawah ini.\n",
    "def minimal(a: int, b: int):\n",
    "    \"\"\"\n",
    "    Mengembalikan nilai terkecil antara a atau b.\n",
    "    Bila nilai keduanya sama, kembalikan dengan nilai a.\n",
    "    \"\"\"\n",
    "    if a < b:\n",
    "        return a\n",
    "    else:\n",
    "        return b\n",
    "\n",
    "minimal(2, 3)"
   ],
   "metadata": {
    "collapsed": false,
    "ExecuteTime": {
     "end_time": "2023-09-21T09:57:03.725786200Z",
     "start_time": "2023-09-21T09:57:03.713010400Z"
    }
   },
   "id": "5143772dd151df18"
  },
  {
   "cell_type": "code",
   "execution_count": null,
   "outputs": [],
   "source": [
    "\"\"\"\n",
    "TODO:\n",
    "1. Buatlah class bernama Animal dengan ketentuan:\n",
    "    - Memiliki properti:\n",
    "      - name: string\n",
    "      - age: int\n",
    "      - species: string\n",
    "    - Memiliki constructor untuk menginisialisasi properti:\n",
    "      - name\n",
    "      - age\n",
    "      - species\n",
    "2. Buatlah class bernama Cat dengan ketentuan:\n",
    "    - Merupakan turunan dari class Animal\n",
    "    - Memiliki method:\n",
    "      - bernama \"deskripsi\" yang mengembalikan nilai string berikut ini.\n",
    "        \"{self.name} adalah kucing berjenis {self.species} yang sudah berumur {self.age} tahun\"\n",
    "      - bernama \"suara\" yang akan mengembalikan nilai string \"meow!\"\n",
    " 3. Buatlah instance dari kelas Cat bernama \"myCat\" dengan ketentuan:\n",
    "    - Atribut name bernilai: \"Neko\"\n",
    "    - Atribut age bernilai: 3\n",
    "    - Atribut species bernilai: \"Persian\".\n",
    "\"\"\"\n",
    "\n",
    "#TODO: Silakan buat kode Anda di bawah ini.\n",
    "\n",
    "class Animal:\n",
    "    def __init__(self, name, age, species):\n",
    "        self.name = name\n",
    "        self.age = age\n",
    "        self.species = species\n",
    "\n",
    "class Cat(Animal):\n",
    "    def deskripsi(self):\n",
    "        return f\"{self.name} adalah kucing berjenis {self.species} yang sudah berumur {self.age} tahun\"\n",
    "\n",
    "    def suara(self):\n",
    "        return \"meow!\""
   ],
   "metadata": {
    "collapsed": false
   },
   "id": "abe59d715f05c3e8"
  }
 ],
 "metadata": {
  "kernelspec": {
   "display_name": "Python 3",
   "language": "python",
   "name": "python3"
  },
  "language_info": {
   "codemirror_mode": {
    "name": "ipython",
    "version": 2
   },
   "file_extension": ".py",
   "mimetype": "text/x-python",
   "name": "python",
   "nbconvert_exporter": "python",
   "pygments_lexer": "ipython2",
   "version": "2.7.6"
  }
 },
 "nbformat": 4,
 "nbformat_minor": 5
}
